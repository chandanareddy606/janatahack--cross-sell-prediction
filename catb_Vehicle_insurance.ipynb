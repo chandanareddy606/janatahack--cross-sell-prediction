{
  "nbformat": 4,
  "nbformat_minor": 0,
  "metadata": {
    "colab": {
      "name": "catb_Vehicle_insurance.ipynb",
      "provenance": [],
      "toc_visible": true
    },
    "kernelspec": {
      "name": "python3",
      "display_name": "Python 3"
    },
    "accelerator": "GPU"
  },
  "cells": [
    {
      "cell_type": "markdown",
      "metadata": {
        "id": "7OFh9aZNSVtR",
        "colab_type": "text"
      },
      "source": [
        "\n",
        "**Problem** **Statement**\n",
        "\n",
        "\n",
        "##*Jantahack Cross-sell Prediction*\n",
        "\n",
        "\n",
        "\n",
        "The Problem statement is [here](https://datahack.analyticsvidhya.com/contest/janatahack-cross-sell-prediction/#ProblemStatement)."
      ]
    },
    {
      "cell_type": "markdown",
      "metadata": {
        "id": "tNXxRB4jSsMG",
        "colab_type": "text"
      },
      "source": [
        "**Data Description**\n",
        "\t              \n",
        "- id\t       :            Unique ID for the customer\n",
        "- Gender\t      :         Gender of the customer\n",
        "- Age           :          Age of the customer\n",
        "- Driving_License\t0 : Customer does not have DL, 1 : Customer already has DL.\n",
        "- Region_Code\t: Unique code for the region of the customer\n",
        "- Previously_Insured\t1 : Customer already has Vehicle Insurance, 0 : Customer doesn't have Vehicle Insurance\n",
        "- Vehicle_Age\t-   Age of the Vehicle \n",
        "- Vehicle_Damage\n",
        "1 : Customer got his/her vehicle damaged in the past.\n",
        "0 : Customer didn't get his/her vehicle damaged in the past.\n",
        "- Annual_Premium\tThe amount customer needs to pay as premium in the year\n",
        "- Policy_Sales_Channel\tAnonymised Code for the channel of outreaching to the customer ie. Different Agents, Over Mail, Over Phone, In Person, etc.\n",
        "- Vintage -\tNumber of Days, Customer has been associated with the company\n",
        "- Response\t1 :  Customer is interested, 0 : Customer is not interested"
      ]
    },
    {
      "cell_type": "code",
      "metadata": {
        "id": "1nSIgxzrylXm",
        "colab_type": "code",
        "colab": {
          "base_uri": "https://localhost:8080/",
          "height": 34
        },
        "outputId": "30e391bf-9af8-439b-a787-9d5009c64dec"
      },
      "source": [
        "from google.colab import drive\n",
        "drive.mount('drive')"
      ],
      "execution_count": 1,
      "outputs": [
        {
          "output_type": "stream",
          "text": [
            "Mounted at drive\n"
          ],
          "name": "stdout"
        }
      ]
    },
    {
      "cell_type": "code",
      "metadata": {
        "id": "5hyIWl-Iyva6",
        "colab_type": "code",
        "colab": {}
      },
      "source": [
        "import pandas as pd\n",
        "import numpy as np\n",
        "import seaborn as sns\n",
        "import matplotlib.pyplot as plt\n",
        "\n",
        "import warnings\n",
        "warnings.filterwarnings('ignore')"
      ],
      "execution_count": 41,
      "outputs": []
    },
    {
      "cell_type": "markdown",
      "metadata": {
        "id": "zBx1UDZQTUS-",
        "colab_type": "text"
      },
      "source": [
        "**Loading** **the** **train** **data** "
      ]
    },
    {
      "cell_type": "code",
      "metadata": {
        "id": "xrgyhHTvy9pZ",
        "colab_type": "code",
        "colab": {
          "base_uri": "https://localhost:8080/",
          "height": 204
        },
        "outputId": "42077bda-6481-4db0-ef39-9d83885d5c26"
      },
      "source": [
        "df=pd.read_csv('/content/drive/My Drive/hacathon/train.csv')\n",
        "df.head()"
      ],
      "execution_count": 42,
      "outputs": [
        {
          "output_type": "execute_result",
          "data": {
            "text/html": [
              "<div>\n",
              "<style scoped>\n",
              "    .dataframe tbody tr th:only-of-type {\n",
              "        vertical-align: middle;\n",
              "    }\n",
              "\n",
              "    .dataframe tbody tr th {\n",
              "        vertical-align: top;\n",
              "    }\n",
              "\n",
              "    .dataframe thead th {\n",
              "        text-align: right;\n",
              "    }\n",
              "</style>\n",
              "<table border=\"1\" class=\"dataframe\">\n",
              "  <thead>\n",
              "    <tr style=\"text-align: right;\">\n",
              "      <th></th>\n",
              "      <th>id</th>\n",
              "      <th>Gender</th>\n",
              "      <th>Age</th>\n",
              "      <th>Driving_License</th>\n",
              "      <th>Region_Code</th>\n",
              "      <th>Previously_Insured</th>\n",
              "      <th>Vehicle_Age</th>\n",
              "      <th>Vehicle_Damage</th>\n",
              "      <th>Annual_Premium</th>\n",
              "      <th>Policy_Sales_Channel</th>\n",
              "      <th>Vintage</th>\n",
              "      <th>Response</th>\n",
              "    </tr>\n",
              "  </thead>\n",
              "  <tbody>\n",
              "    <tr>\n",
              "      <th>0</th>\n",
              "      <td>1</td>\n",
              "      <td>Male</td>\n",
              "      <td>44</td>\n",
              "      <td>1</td>\n",
              "      <td>28.0</td>\n",
              "      <td>0</td>\n",
              "      <td>&gt; 2 Years</td>\n",
              "      <td>Yes</td>\n",
              "      <td>40454.0</td>\n",
              "      <td>26.0</td>\n",
              "      <td>217</td>\n",
              "      <td>1</td>\n",
              "    </tr>\n",
              "    <tr>\n",
              "      <th>1</th>\n",
              "      <td>2</td>\n",
              "      <td>Male</td>\n",
              "      <td>76</td>\n",
              "      <td>1</td>\n",
              "      <td>3.0</td>\n",
              "      <td>0</td>\n",
              "      <td>1-2 Year</td>\n",
              "      <td>No</td>\n",
              "      <td>33536.0</td>\n",
              "      <td>26.0</td>\n",
              "      <td>183</td>\n",
              "      <td>0</td>\n",
              "    </tr>\n",
              "    <tr>\n",
              "      <th>2</th>\n",
              "      <td>3</td>\n",
              "      <td>Male</td>\n",
              "      <td>47</td>\n",
              "      <td>1</td>\n",
              "      <td>28.0</td>\n",
              "      <td>0</td>\n",
              "      <td>&gt; 2 Years</td>\n",
              "      <td>Yes</td>\n",
              "      <td>38294.0</td>\n",
              "      <td>26.0</td>\n",
              "      <td>27</td>\n",
              "      <td>1</td>\n",
              "    </tr>\n",
              "    <tr>\n",
              "      <th>3</th>\n",
              "      <td>4</td>\n",
              "      <td>Male</td>\n",
              "      <td>21</td>\n",
              "      <td>1</td>\n",
              "      <td>11.0</td>\n",
              "      <td>1</td>\n",
              "      <td>&lt; 1 Year</td>\n",
              "      <td>No</td>\n",
              "      <td>28619.0</td>\n",
              "      <td>152.0</td>\n",
              "      <td>203</td>\n",
              "      <td>0</td>\n",
              "    </tr>\n",
              "    <tr>\n",
              "      <th>4</th>\n",
              "      <td>5</td>\n",
              "      <td>Female</td>\n",
              "      <td>29</td>\n",
              "      <td>1</td>\n",
              "      <td>41.0</td>\n",
              "      <td>1</td>\n",
              "      <td>&lt; 1 Year</td>\n",
              "      <td>No</td>\n",
              "      <td>27496.0</td>\n",
              "      <td>152.0</td>\n",
              "      <td>39</td>\n",
              "      <td>0</td>\n",
              "    </tr>\n",
              "  </tbody>\n",
              "</table>\n",
              "</div>"
            ],
            "text/plain": [
              "   id  Gender  Age  ...  Policy_Sales_Channel  Vintage  Response\n",
              "0   1    Male   44  ...                  26.0      217         1\n",
              "1   2    Male   76  ...                  26.0      183         0\n",
              "2   3    Male   47  ...                  26.0       27         1\n",
              "3   4    Male   21  ...                 152.0      203         0\n",
              "4   5  Female   29  ...                 152.0       39         0\n",
              "\n",
              "[5 rows x 12 columns]"
            ]
          },
          "metadata": {
            "tags": []
          },
          "execution_count": 42
        }
      ]
    },
    {
      "cell_type": "code",
      "metadata": {
        "id": "HdMeSh8twMtz",
        "colab_type": "code",
        "colab": {}
      },
      "source": [
        "#Deleting unwanted column\n",
        "del df['id']"
      ],
      "execution_count": 43,
      "outputs": []
    },
    {
      "cell_type": "code",
      "metadata": {
        "id": "bfavoZwrzHQy",
        "colab_type": "code",
        "colab": {
          "base_uri": "https://localhost:8080/",
          "height": 34
        },
        "outputId": "15eb9399-659f-4c7f-a3c4-57da280df707"
      },
      "source": [
        "df.shape"
      ],
      "execution_count": 44,
      "outputs": [
        {
          "output_type": "execute_result",
          "data": {
            "text/plain": [
              "(381109, 11)"
            ]
          },
          "metadata": {
            "tags": []
          },
          "execution_count": 44
        }
      ]
    },
    {
      "cell_type": "code",
      "metadata": {
        "id": "LWHog1hPzO07",
        "colab_type": "code",
        "colab": {
          "base_uri": "https://localhost:8080/",
          "height": 221
        },
        "outputId": "c100d198-2d43-4b6c-ed25-7eb8f8f98b70"
      },
      "source": [
        "#Checking the null values\n",
        "df.isnull().sum()"
      ],
      "execution_count": 45,
      "outputs": [
        {
          "output_type": "execute_result",
          "data": {
            "text/plain": [
              "Gender                  0\n",
              "Age                     0\n",
              "Driving_License         0\n",
              "Region_Code             0\n",
              "Previously_Insured      0\n",
              "Vehicle_Age             0\n",
              "Vehicle_Damage          0\n",
              "Annual_Premium          0\n",
              "Policy_Sales_Channel    0\n",
              "Vintage                 0\n",
              "Response                0\n",
              "dtype: int64"
            ]
          },
          "metadata": {
            "tags": []
          },
          "execution_count": 45
        }
      ]
    },
    {
      "cell_type": "code",
      "metadata": {
        "id": "nBLmIeiVTPDd",
        "colab_type": "code",
        "colab": {
          "base_uri": "https://localhost:8080/",
          "height": 323
        },
        "outputId": "f5eecdb6-ed87-4864-9546-c8a253ee4adf"
      },
      "source": [
        "df.info()"
      ],
      "execution_count": 46,
      "outputs": [
        {
          "output_type": "stream",
          "text": [
            "<class 'pandas.core.frame.DataFrame'>\n",
            "RangeIndex: 381109 entries, 0 to 381108\n",
            "Data columns (total 11 columns):\n",
            " #   Column                Non-Null Count   Dtype  \n",
            "---  ------                --------------   -----  \n",
            " 0   Gender                381109 non-null  object \n",
            " 1   Age                   381109 non-null  int64  \n",
            " 2   Driving_License       381109 non-null  int64  \n",
            " 3   Region_Code           381109 non-null  float64\n",
            " 4   Previously_Insured    381109 non-null  int64  \n",
            " 5   Vehicle_Age           381109 non-null  object \n",
            " 6   Vehicle_Damage        381109 non-null  object \n",
            " 7   Annual_Premium        381109 non-null  float64\n",
            " 8   Policy_Sales_Channel  381109 non-null  float64\n",
            " 9   Vintage               381109 non-null  int64  \n",
            " 10  Response              381109 non-null  int64  \n",
            "dtypes: float64(3), int64(5), object(3)\n",
            "memory usage: 32.0+ MB\n"
          ],
          "name": "stdout"
        }
      ]
    },
    {
      "cell_type": "markdown",
      "metadata": {
        "id": "xisstZrBUGRU",
        "colab_type": "text"
      },
      "source": [
        "**Loading the test data**"
      ]
    },
    {
      "cell_type": "code",
      "metadata": {
        "id": "7UhBjgj2R56t",
        "colab_type": "code",
        "colab": {
          "base_uri": "https://localhost:8080/",
          "height": 204
        },
        "outputId": "29f1b776-2268-4cda-9058-dc96cf94aee5"
      },
      "source": [
        "df_test=pd.read_csv('/content/drive/My Drive/hacathon/test.csv')\n",
        "df_test.head()"
      ],
      "execution_count": 47,
      "outputs": [
        {
          "output_type": "execute_result",
          "data": {
            "text/html": [
              "<div>\n",
              "<style scoped>\n",
              "    .dataframe tbody tr th:only-of-type {\n",
              "        vertical-align: middle;\n",
              "    }\n",
              "\n",
              "    .dataframe tbody tr th {\n",
              "        vertical-align: top;\n",
              "    }\n",
              "\n",
              "    .dataframe thead th {\n",
              "        text-align: right;\n",
              "    }\n",
              "</style>\n",
              "<table border=\"1\" class=\"dataframe\">\n",
              "  <thead>\n",
              "    <tr style=\"text-align: right;\">\n",
              "      <th></th>\n",
              "      <th>id</th>\n",
              "      <th>Gender</th>\n",
              "      <th>Age</th>\n",
              "      <th>Driving_License</th>\n",
              "      <th>Region_Code</th>\n",
              "      <th>Previously_Insured</th>\n",
              "      <th>Vehicle_Age</th>\n",
              "      <th>Vehicle_Damage</th>\n",
              "      <th>Annual_Premium</th>\n",
              "      <th>Policy_Sales_Channel</th>\n",
              "      <th>Vintage</th>\n",
              "    </tr>\n",
              "  </thead>\n",
              "  <tbody>\n",
              "    <tr>\n",
              "      <th>0</th>\n",
              "      <td>381110</td>\n",
              "      <td>Male</td>\n",
              "      <td>25</td>\n",
              "      <td>1</td>\n",
              "      <td>11.0</td>\n",
              "      <td>1</td>\n",
              "      <td>&lt; 1 Year</td>\n",
              "      <td>No</td>\n",
              "      <td>35786.0</td>\n",
              "      <td>152.0</td>\n",
              "      <td>53</td>\n",
              "    </tr>\n",
              "    <tr>\n",
              "      <th>1</th>\n",
              "      <td>381111</td>\n",
              "      <td>Male</td>\n",
              "      <td>40</td>\n",
              "      <td>1</td>\n",
              "      <td>28.0</td>\n",
              "      <td>0</td>\n",
              "      <td>1-2 Year</td>\n",
              "      <td>Yes</td>\n",
              "      <td>33762.0</td>\n",
              "      <td>7.0</td>\n",
              "      <td>111</td>\n",
              "    </tr>\n",
              "    <tr>\n",
              "      <th>2</th>\n",
              "      <td>381112</td>\n",
              "      <td>Male</td>\n",
              "      <td>47</td>\n",
              "      <td>1</td>\n",
              "      <td>28.0</td>\n",
              "      <td>0</td>\n",
              "      <td>1-2 Year</td>\n",
              "      <td>Yes</td>\n",
              "      <td>40050.0</td>\n",
              "      <td>124.0</td>\n",
              "      <td>199</td>\n",
              "    </tr>\n",
              "    <tr>\n",
              "      <th>3</th>\n",
              "      <td>381113</td>\n",
              "      <td>Male</td>\n",
              "      <td>24</td>\n",
              "      <td>1</td>\n",
              "      <td>27.0</td>\n",
              "      <td>1</td>\n",
              "      <td>&lt; 1 Year</td>\n",
              "      <td>Yes</td>\n",
              "      <td>37356.0</td>\n",
              "      <td>152.0</td>\n",
              "      <td>187</td>\n",
              "    </tr>\n",
              "    <tr>\n",
              "      <th>4</th>\n",
              "      <td>381114</td>\n",
              "      <td>Male</td>\n",
              "      <td>27</td>\n",
              "      <td>1</td>\n",
              "      <td>28.0</td>\n",
              "      <td>1</td>\n",
              "      <td>&lt; 1 Year</td>\n",
              "      <td>No</td>\n",
              "      <td>59097.0</td>\n",
              "      <td>152.0</td>\n",
              "      <td>297</td>\n",
              "    </tr>\n",
              "  </tbody>\n",
              "</table>\n",
              "</div>"
            ],
            "text/plain": [
              "       id Gender  Age  ...  Annual_Premium  Policy_Sales_Channel  Vintage\n",
              "0  381110   Male   25  ...         35786.0                 152.0       53\n",
              "1  381111   Male   40  ...         33762.0                   7.0      111\n",
              "2  381112   Male   47  ...         40050.0                 124.0      199\n",
              "3  381113   Male   24  ...         37356.0                 152.0      187\n",
              "4  381114   Male   27  ...         59097.0                 152.0      297\n",
              "\n",
              "[5 rows x 11 columns]"
            ]
          },
          "metadata": {
            "tags": []
          },
          "execution_count": 47
        }
      ]
    },
    {
      "cell_type": "code",
      "metadata": {
        "id": "GsiSaUDvTL2a",
        "colab_type": "code",
        "colab": {
          "base_uri": "https://localhost:8080/",
          "height": 34
        },
        "outputId": "b97faff6-143c-4b53-f391-294b46919c53"
      },
      "source": [
        "df_test.shape"
      ],
      "execution_count": 48,
      "outputs": [
        {
          "output_type": "execute_result",
          "data": {
            "text/plain": [
              "(127037, 11)"
            ]
          },
          "metadata": {
            "tags": []
          },
          "execution_count": 48
        }
      ]
    },
    {
      "cell_type": "code",
      "metadata": {
        "id": "BElRx_myTVm0",
        "colab_type": "code",
        "colab": {
          "base_uri": "https://localhost:8080/",
          "height": 323
        },
        "outputId": "6c202764-4095-4dfc-cd1f-b853535e6958"
      },
      "source": [
        "df_test.info()"
      ],
      "execution_count": 49,
      "outputs": [
        {
          "output_type": "stream",
          "text": [
            "<class 'pandas.core.frame.DataFrame'>\n",
            "RangeIndex: 127037 entries, 0 to 127036\n",
            "Data columns (total 11 columns):\n",
            " #   Column                Non-Null Count   Dtype  \n",
            "---  ------                --------------   -----  \n",
            " 0   id                    127037 non-null  int64  \n",
            " 1   Gender                127037 non-null  object \n",
            " 2   Age                   127037 non-null  int64  \n",
            " 3   Driving_License       127037 non-null  int64  \n",
            " 4   Region_Code           127037 non-null  float64\n",
            " 5   Previously_Insured    127037 non-null  int64  \n",
            " 6   Vehicle_Age           127037 non-null  object \n",
            " 7   Vehicle_Damage        127037 non-null  object \n",
            " 8   Annual_Premium        127037 non-null  float64\n",
            " 9   Policy_Sales_Channel  127037 non-null  float64\n",
            " 10  Vintage               127037 non-null  int64  \n",
            "dtypes: float64(3), int64(5), object(3)\n",
            "memory usage: 10.7+ MB\n"
          ],
          "name": "stdout"
        }
      ]
    },
    {
      "cell_type": "markdown",
      "metadata": {
        "id": "2HWshFAqUnLg",
        "colab_type": "text"
      },
      "source": [
        "**Data preprocessing**"
      ]
    },
    {
      "cell_type": "code",
      "metadata": {
        "id": "omJz1m-WTZer",
        "colab_type": "code",
        "colab": {}
      },
      "source": [
        "#Replacing categorical  with numerical values for both train and test\n",
        "df['Gender']=df['Gender'].replace(['Male','Female'],[1,0])\n",
        "df['Vehicle_Age']=df['Vehicle_Age'].replace(['< 1 Year','1-2 Year','> 2 Years'],[0,1,2])\n",
        "df['Vehicle_Damage']=df['Vehicle_Damage'].replace(['Yes','No'],[1,0])\n",
        "\n",
        "\n",
        "df_test['Gender']=df_test['Gender'].replace(['Male','Female'],[1,0])\n",
        "df_test['Vehicle_Age']=df_test['Vehicle_Age'].replace(['< 1 Year','1-2 Year','> 2 Years'],[0,1,2])\n",
        "df_test['Vehicle_Damage']=df_test['Vehicle_Damage'].replace(['Yes','No'],[1,0])"
      ],
      "execution_count": 70,
      "outputs": []
    },
    {
      "cell_type": "code",
      "metadata": {
        "id": "gOsMDfMFe3FV",
        "colab_type": "code",
        "colab": {
          "base_uri": "https://localhost:8080/",
          "height": 323
        },
        "outputId": "0f9d5a79-e464-4ed9-bf6f-b26c46557f7a"
      },
      "source": [
        "df.info()"
      ],
      "execution_count": 50,
      "outputs": [
        {
          "output_type": "stream",
          "text": [
            "<class 'pandas.core.frame.DataFrame'>\n",
            "RangeIndex: 381109 entries, 0 to 381108\n",
            "Data columns (total 11 columns):\n",
            " #   Column                Non-Null Count   Dtype  \n",
            "---  ------                --------------   -----  \n",
            " 0   Gender                381109 non-null  object \n",
            " 1   Age                   381109 non-null  int64  \n",
            " 2   Driving_License       381109 non-null  int64  \n",
            " 3   Region_Code           381109 non-null  float64\n",
            " 4   Previously_Insured    381109 non-null  int64  \n",
            " 5   Vehicle_Age           381109 non-null  object \n",
            " 6   Vehicle_Damage        381109 non-null  object \n",
            " 7   Annual_Premium        381109 non-null  float64\n",
            " 8   Policy_Sales_Channel  381109 non-null  float64\n",
            " 9   Vintage               381109 non-null  int64  \n",
            " 10  Response              381109 non-null  int64  \n",
            "dtypes: float64(3), int64(5), object(3)\n",
            "memory usage: 32.0+ MB\n"
          ],
          "name": "stdout"
        }
      ]
    },
    {
      "cell_type": "code",
      "metadata": {
        "id": "FSO76tcIVaPu",
        "colab_type": "code",
        "colab": {
          "base_uri": "https://localhost:8080/",
          "height": 204
        },
        "outputId": "9ac92b2b-3c6c-423b-de4a-ac0bc47bc212"
      },
      "source": [
        "df.head()"
      ],
      "execution_count": 51,
      "outputs": [
        {
          "output_type": "execute_result",
          "data": {
            "text/html": [
              "<div>\n",
              "<style scoped>\n",
              "    .dataframe tbody tr th:only-of-type {\n",
              "        vertical-align: middle;\n",
              "    }\n",
              "\n",
              "    .dataframe tbody tr th {\n",
              "        vertical-align: top;\n",
              "    }\n",
              "\n",
              "    .dataframe thead th {\n",
              "        text-align: right;\n",
              "    }\n",
              "</style>\n",
              "<table border=\"1\" class=\"dataframe\">\n",
              "  <thead>\n",
              "    <tr style=\"text-align: right;\">\n",
              "      <th></th>\n",
              "      <th>Gender</th>\n",
              "      <th>Age</th>\n",
              "      <th>Driving_License</th>\n",
              "      <th>Region_Code</th>\n",
              "      <th>Previously_Insured</th>\n",
              "      <th>Vehicle_Age</th>\n",
              "      <th>Vehicle_Damage</th>\n",
              "      <th>Annual_Premium</th>\n",
              "      <th>Policy_Sales_Channel</th>\n",
              "      <th>Vintage</th>\n",
              "      <th>Response</th>\n",
              "    </tr>\n",
              "  </thead>\n",
              "  <tbody>\n",
              "    <tr>\n",
              "      <th>0</th>\n",
              "      <td>Male</td>\n",
              "      <td>44</td>\n",
              "      <td>1</td>\n",
              "      <td>28.0</td>\n",
              "      <td>0</td>\n",
              "      <td>&gt; 2 Years</td>\n",
              "      <td>Yes</td>\n",
              "      <td>40454.0</td>\n",
              "      <td>26.0</td>\n",
              "      <td>217</td>\n",
              "      <td>1</td>\n",
              "    </tr>\n",
              "    <tr>\n",
              "      <th>1</th>\n",
              "      <td>Male</td>\n",
              "      <td>76</td>\n",
              "      <td>1</td>\n",
              "      <td>3.0</td>\n",
              "      <td>0</td>\n",
              "      <td>1-2 Year</td>\n",
              "      <td>No</td>\n",
              "      <td>33536.0</td>\n",
              "      <td>26.0</td>\n",
              "      <td>183</td>\n",
              "      <td>0</td>\n",
              "    </tr>\n",
              "    <tr>\n",
              "      <th>2</th>\n",
              "      <td>Male</td>\n",
              "      <td>47</td>\n",
              "      <td>1</td>\n",
              "      <td>28.0</td>\n",
              "      <td>0</td>\n",
              "      <td>&gt; 2 Years</td>\n",
              "      <td>Yes</td>\n",
              "      <td>38294.0</td>\n",
              "      <td>26.0</td>\n",
              "      <td>27</td>\n",
              "      <td>1</td>\n",
              "    </tr>\n",
              "    <tr>\n",
              "      <th>3</th>\n",
              "      <td>Male</td>\n",
              "      <td>21</td>\n",
              "      <td>1</td>\n",
              "      <td>11.0</td>\n",
              "      <td>1</td>\n",
              "      <td>&lt; 1 Year</td>\n",
              "      <td>No</td>\n",
              "      <td>28619.0</td>\n",
              "      <td>152.0</td>\n",
              "      <td>203</td>\n",
              "      <td>0</td>\n",
              "    </tr>\n",
              "    <tr>\n",
              "      <th>4</th>\n",
              "      <td>Female</td>\n",
              "      <td>29</td>\n",
              "      <td>1</td>\n",
              "      <td>41.0</td>\n",
              "      <td>1</td>\n",
              "      <td>&lt; 1 Year</td>\n",
              "      <td>No</td>\n",
              "      <td>27496.0</td>\n",
              "      <td>152.0</td>\n",
              "      <td>39</td>\n",
              "      <td>0</td>\n",
              "    </tr>\n",
              "  </tbody>\n",
              "</table>\n",
              "</div>"
            ],
            "text/plain": [
              "   Gender  Age  Driving_License  ...  Policy_Sales_Channel  Vintage Response\n",
              "0    Male   44                1  ...                  26.0      217        1\n",
              "1    Male   76                1  ...                  26.0      183        0\n",
              "2    Male   47                1  ...                  26.0       27        1\n",
              "3    Male   21                1  ...                 152.0      203        0\n",
              "4  Female   29                1  ...                 152.0       39        0\n",
              "\n",
              "[5 rows x 11 columns]"
            ]
          },
          "metadata": {
            "tags": []
          },
          "execution_count": 51
        }
      ]
    },
    {
      "cell_type": "code",
      "metadata": {
        "id": "EM7UyT39VcB4",
        "colab_type": "code",
        "colab": {
          "base_uri": "https://localhost:8080/",
          "height": 204
        },
        "outputId": "b47d3b19-e38f-48c2-b182-ab9d3697237c"
      },
      "source": [
        "df_test.head()"
      ],
      "execution_count": 52,
      "outputs": [
        {
          "output_type": "execute_result",
          "data": {
            "text/html": [
              "<div>\n",
              "<style scoped>\n",
              "    .dataframe tbody tr th:only-of-type {\n",
              "        vertical-align: middle;\n",
              "    }\n",
              "\n",
              "    .dataframe tbody tr th {\n",
              "        vertical-align: top;\n",
              "    }\n",
              "\n",
              "    .dataframe thead th {\n",
              "        text-align: right;\n",
              "    }\n",
              "</style>\n",
              "<table border=\"1\" class=\"dataframe\">\n",
              "  <thead>\n",
              "    <tr style=\"text-align: right;\">\n",
              "      <th></th>\n",
              "      <th>id</th>\n",
              "      <th>Gender</th>\n",
              "      <th>Age</th>\n",
              "      <th>Driving_License</th>\n",
              "      <th>Region_Code</th>\n",
              "      <th>Previously_Insured</th>\n",
              "      <th>Vehicle_Age</th>\n",
              "      <th>Vehicle_Damage</th>\n",
              "      <th>Annual_Premium</th>\n",
              "      <th>Policy_Sales_Channel</th>\n",
              "      <th>Vintage</th>\n",
              "    </tr>\n",
              "  </thead>\n",
              "  <tbody>\n",
              "    <tr>\n",
              "      <th>0</th>\n",
              "      <td>381110</td>\n",
              "      <td>Male</td>\n",
              "      <td>25</td>\n",
              "      <td>1</td>\n",
              "      <td>11.0</td>\n",
              "      <td>1</td>\n",
              "      <td>&lt; 1 Year</td>\n",
              "      <td>No</td>\n",
              "      <td>35786.0</td>\n",
              "      <td>152.0</td>\n",
              "      <td>53</td>\n",
              "    </tr>\n",
              "    <tr>\n",
              "      <th>1</th>\n",
              "      <td>381111</td>\n",
              "      <td>Male</td>\n",
              "      <td>40</td>\n",
              "      <td>1</td>\n",
              "      <td>28.0</td>\n",
              "      <td>0</td>\n",
              "      <td>1-2 Year</td>\n",
              "      <td>Yes</td>\n",
              "      <td>33762.0</td>\n",
              "      <td>7.0</td>\n",
              "      <td>111</td>\n",
              "    </tr>\n",
              "    <tr>\n",
              "      <th>2</th>\n",
              "      <td>381112</td>\n",
              "      <td>Male</td>\n",
              "      <td>47</td>\n",
              "      <td>1</td>\n",
              "      <td>28.0</td>\n",
              "      <td>0</td>\n",
              "      <td>1-2 Year</td>\n",
              "      <td>Yes</td>\n",
              "      <td>40050.0</td>\n",
              "      <td>124.0</td>\n",
              "      <td>199</td>\n",
              "    </tr>\n",
              "    <tr>\n",
              "      <th>3</th>\n",
              "      <td>381113</td>\n",
              "      <td>Male</td>\n",
              "      <td>24</td>\n",
              "      <td>1</td>\n",
              "      <td>27.0</td>\n",
              "      <td>1</td>\n",
              "      <td>&lt; 1 Year</td>\n",
              "      <td>Yes</td>\n",
              "      <td>37356.0</td>\n",
              "      <td>152.0</td>\n",
              "      <td>187</td>\n",
              "    </tr>\n",
              "    <tr>\n",
              "      <th>4</th>\n",
              "      <td>381114</td>\n",
              "      <td>Male</td>\n",
              "      <td>27</td>\n",
              "      <td>1</td>\n",
              "      <td>28.0</td>\n",
              "      <td>1</td>\n",
              "      <td>&lt; 1 Year</td>\n",
              "      <td>No</td>\n",
              "      <td>59097.0</td>\n",
              "      <td>152.0</td>\n",
              "      <td>297</td>\n",
              "    </tr>\n",
              "  </tbody>\n",
              "</table>\n",
              "</div>"
            ],
            "text/plain": [
              "       id Gender  Age  ...  Annual_Premium  Policy_Sales_Channel  Vintage\n",
              "0  381110   Male   25  ...         35786.0                 152.0       53\n",
              "1  381111   Male   40  ...         33762.0                   7.0      111\n",
              "2  381112   Male   47  ...         40050.0                 124.0      199\n",
              "3  381113   Male   24  ...         37356.0                 152.0      187\n",
              "4  381114   Male   27  ...         59097.0                 152.0      297\n",
              "\n",
              "[5 rows x 11 columns]"
            ]
          },
          "metadata": {
            "tags": []
          },
          "execution_count": 52
        }
      ]
    },
    {
      "cell_type": "markdown",
      "metadata": {
        "id": "DsqfgJMfVRuH",
        "colab_type": "text"
      },
      "source": [
        "**Data Visualization**"
      ]
    },
    {
      "cell_type": "code",
      "metadata": {
        "id": "POgy0g1bXXS-",
        "colab_type": "code",
        "colab": {
          "base_uri": "https://localhost:8080/",
          "height": 279
        },
        "outputId": "25f2b83f-941b-4799-91bc-c3fae4b86bc5"
      },
      "source": [
        "sns.distplot(df['Age'])\n",
        "plt.show()"
      ],
      "execution_count": 54,
      "outputs": [
        {
          "output_type": "display_data",
          "data": {
            "image/png": "[encoded data removed]",
            "text/plain": [
              "<Figure size 432x288 with 1 Axes>"
            ]
          },
          "metadata": {
            "tags": [],
            "needs_background": "light"
          }
        }
      ]
    },
    {
      "cell_type": "code",
      "metadata": {
        "id": "-vsD1arTXXhr",
        "colab_type": "code",
        "colab": {
          "base_uri": "https://localhost:8080/",
          "height": 279
        },
        "outputId": "f65b960b-031c-441b-8147-98aa4d1f1c9d"
      },
      "source": [
        "sns.countplot(df['Gender']);"
      ],
      "execution_count": 55,
      "outputs": [
        {
          "output_type": "display_data",
          "data": {
            "image/png": "[encoded data removed]",
            "text/plain": [
              "<Figure size 432x288 with 1 Axes>"
            ]
          },
          "metadata": {
            "tags": [],
            "needs_background": "light"
          }
        }
      ]
    },
    {
      "cell_type": "code",
      "metadata": {
        "id": "aPZ2E-SgXX2L",
        "colab_type": "code",
        "colab": {
          "base_uri": "https://localhost:8080/",
          "height": 279
        },
        "outputId": "be3d70dd-2913-4073-d8cc-87bd2dc34461"
      },
      "source": [
        "sns.countplot(df['Gender'],hue=df['Driving_License']);"
      ],
      "execution_count": 56,
      "outputs": [
        {
          "output_type": "display_data",
          "data": {
            "image/png": "[encoded data removed]",
            "text/plain": [
              "<Figure size 432x288 with 1 Axes>"
            ]
          },
          "metadata": {
            "tags": [],
            "needs_background": "light"
          }
        }
      ]
    },
    {
      "cell_type": "code",
      "metadata": {
        "id": "mEbDUyMqXYBd",
        "colab_type": "code",
        "colab": {
          "base_uri": "https://localhost:8080/",
          "height": 386
        },
        "outputId": "15f68db7-5ce6-42c1-9ae9-7b0f721d168e"
      },
      "source": [
        "plt.figure(figsize=(10,10))\n",
        "sns.catplot(x=\"Vehicle_Age\", y=\"Response\", hue=\"Gender\", kind=\"bar\", data=df);"
      ],
      "execution_count": 58,
      "outputs": [
        {
          "output_type": "display_data",
          "data": {
            "text/plain": [
              "<Figure size 720x720 with 0 Axes>"
            ]
          },
          "metadata": {
            "tags": []
          }
        },
        {
          "output_type": "display_data",
          "data": {
            "image/png": "[encoded data removed]",
            "text/plain": [
              "<Figure size 432.125x360 with 1 Axes>"
            ]
          },
          "metadata": {
            "tags": [],
            "needs_background": "light"
          }
        }
      ]
    },
    {
      "cell_type": "markdown",
      "metadata": {
        "id": "JyBE6_qCa_QP",
        "colab_type": "text"
      },
      "source": [
        "\n",
        "\n",
        "\n",
        "\n",
        "*    People whose vehicle age is < 2 years tends to buy insurance compared to others.\n",
        "\n",
        "\n",
        "\n",
        "\n",
        "\n"
      ]
    },
    {
      "cell_type": "code",
      "metadata": {
        "id": "Bv3JQAUrXYPe",
        "colab_type": "code",
        "colab": {
          "base_uri": "https://localhost:8080/",
          "height": 369
        },
        "outputId": "bfbe8107-8632-460d-fa35-d064ef06837d"
      },
      "source": [
        "sns.catplot(x=\"Vehicle_Age\", y=\"Response\", hue=\"Previously_Insured\", kind=\"bar\", data=df);"
      ],
      "execution_count": 59,
      "outputs": [
        {
          "output_type": "display_data",
          "data": {
            "image/png": "[encoded data removed]",
            "text/plain": [
              "<Figure size 461.25x360 with 1 Axes>"
            ]
          },
          "metadata": {
            "tags": [],
            "needs_background": "light"
          }
        }
      ]
    },
    {
      "cell_type": "markdown",
      "metadata": {
        "id": "nP6aWUfobfc0",
        "colab_type": "text"
      },
      "source": [
        "\n",
        "\n",
        "\n",
        "\n",
        "*   Previously_Insured\n",
        "\n",
        "\n",
        "\n",
        "*   1 : Customer already has Vehicle Insurance, 0 : Customer doesn't have      Vehicle Insurance\n",
        "*   Most of the people who have insured doesnt want to insure it again.\n",
        "\n",
        "\n",
        "\n",
        "\n",
        " \n",
        "\n",
        "\n",
        "\n",
        "\n",
        "\n",
        " \n",
        "\n",
        "\n",
        "\n",
        "\n",
        "\n",
        "\n",
        "\n"
      ]
    },
    {
      "cell_type": "code",
      "metadata": {
        "id": "ZfcqmM20cTwv",
        "colab_type": "code",
        "colab": {
          "base_uri": "https://localhost:8080/",
          "height": 369
        },
        "outputId": "00e50086-3f74-401d-8f0e-bb346996d5f0"
      },
      "source": [
        "sns.catplot(x=\"Gender\", y=\"Response\", hue=\"Previously_Insured\", kind=\"bar\", data=df.query(\"Vehicle_Age == '1-2 Year'\"));"
      ],
      "execution_count": 61,
      "outputs": [
        {
          "output_type": "display_data",
          "data": {
            "image/png": "[encoded data removed]",
            "text/plain": [
              "<Figure size 461.25x360 with 1 Axes>"
            ]
          },
          "metadata": {
            "tags": [],
            "needs_background": "light"
          }
        }
      ]
    },
    {
      "cell_type": "markdown",
      "metadata": {
        "id": "vCO419QFcb6c",
        "colab_type": "text"
      },
      "source": [
        "\n",
        "\n",
        "*   Vehicle_Age is between 1-2 years.\n",
        "*   insurance was very less.\n"
      ]
    },
    {
      "cell_type": "code",
      "metadata": {
        "id": "xSRQGwzIcT90",
        "colab_type": "code",
        "colab": {
          "base_uri": "https://localhost:8080/",
          "height": 369
        },
        "outputId": "5f6b5ec5-1cda-4aed-bf1f-03578da0269c"
      },
      "source": [
        "sns.catplot(x=\"Vehicle_Age\", y=\"Response\", hue=\"Driving_License\", kind=\"bar\", data=df);"
      ],
      "execution_count": 62,
      "outputs": [
        {
          "output_type": "display_data",
          "data": {
            "image/png": "[encoded data removed]",
            "text/plain": [
              "<Figure size 447x360 with 1 Axes>"
            ]
          },
          "metadata": {
            "tags": [],
            "needs_background": "light"
          }
        }
      ]
    },
    {
      "cell_type": "code",
      "metadata": {
        "id": "EhDtdPKJcUD4",
        "colab_type": "code",
        "colab": {
          "base_uri": "https://localhost:8080/",
          "height": 369
        },
        "outputId": "65173687-54d9-42bc-bbf1-f1c8f627290e"
      },
      "source": [
        "sns.catplot(x=\"Gender\", y=\"Response\", hue=\"Previously_Insured\", kind=\"bar\", data=df.query(\"Vehicle_Age == '> 2 Years'\"));"
      ],
      "execution_count": 63,
      "outputs": [
        {
          "output_type": "display_data",
          "data": {
            "image/png": "[encoded data removed]",
            "text/plain": [
              "<Figure size 461.25x360 with 1 Axes>"
            ]
          },
          "metadata": {
            "tags": [],
            "needs_background": "light"
          }
        }
      ]
    },
    {
      "cell_type": "markdown",
      "metadata": {
        "id": "y9GCV4Vsc6NU",
        "colab_type": "text"
      },
      "source": [
        "\n",
        "*   Vehicle_age > 2 years.\n",
        "*   previous insurance was very less which is vehicle age > 2 years.\n"
      ]
    },
    {
      "cell_type": "markdown",
      "metadata": {
        "id": "p-aRtcqDdSa4",
        "colab_type": "text"
      },
      "source": [
        "**Finding the outliers and removing them**"
      ]
    },
    {
      "cell_type": "code",
      "metadata": {
        "id": "giIUcQIBV0oU",
        "colab_type": "code",
        "colab": {
          "base_uri": "https://localhost:8080/",
          "height": 34
        },
        "outputId": "ad0c365c-c41d-40a7-d6ea-b185c09ba0e7"
      },
      "source": [
        "df['Annual_Premium'].max(),df['Annual_Premium'].min()"
      ],
      "execution_count": 64,
      "outputs": [
        {
          "output_type": "execute_result",
          "data": {
            "text/plain": [
              "(540165.0, 2630.0)"
            ]
          },
          "metadata": {
            "tags": []
          },
          "execution_count": 64
        }
      ]
    },
    {
      "cell_type": "code",
      "metadata": {
        "id": "mj80sWyaYDO0",
        "colab_type": "code",
        "colab": {}
      },
      "source": [
        "def outliers(df,features):\n",
        "  for c in features:\n",
        "    Q1=np.percentile(df[c],25)\n",
        "    Q3=np.percentile(df[c],75)\n",
        "    IQR=Q3-Q1\n",
        "    outliers=df[(df[c] < (Q1-1.5 * IQR)) | (df[c] > (Q3 + 1.5 * IQR))]\n",
        "    return outliers.index"
      ],
      "execution_count": 65,
      "outputs": []
    },
    {
      "cell_type": "code",
      "metadata": {
        "id": "WlpULEKSdikB",
        "colab_type": "code",
        "colab": {
          "base_uri": "https://localhost:8080/",
          "height": 119
        },
        "outputId": "c0e5394c-10e4-4e51-bfa3-42482bc45ba4"
      },
      "source": [
        "outliers(df,['Annual_Premium'])"
      ],
      "execution_count": 66,
      "outputs": [
        {
          "output_type": "execute_result",
          "data": {
            "text/plain": [
              "Int64Index([    25,     37,     67,    139,    149,    167,    176,    216,\n",
              "               310,    315,\n",
              "            ...\n",
              "            380655, 380733, 380761, 380815, 380860, 380959, 380998, 381035,\n",
              "            381047, 381079],\n",
              "           dtype='int64', length=10320)"
            ]
          },
          "metadata": {
            "tags": []
          },
          "execution_count": 66
        }
      ]
    },
    {
      "cell_type": "code",
      "metadata": {
        "id": "hNjAEakrjw_A",
        "colab_type": "code",
        "colab": {
          "base_uri": "https://localhost:8080/",
          "height": 34
        },
        "outputId": "7970379d-d6e1-4c90-ec8a-1d0f8cd47c4c"
      },
      "source": [
        "len(df)"
      ],
      "execution_count": 67,
      "outputs": [
        {
          "output_type": "execute_result",
          "data": {
            "text/plain": [
              "381109"
            ]
          },
          "metadata": {
            "tags": []
          },
          "execution_count": 67
        }
      ]
    },
    {
      "cell_type": "code",
      "metadata": {
        "id": "4zYDr7RgjqCp",
        "colab_type": "code",
        "colab": {}
      },
      "source": [
        "df.drop(labels=outliers(df,['Annual_Premium']),inplace=True)"
      ],
      "execution_count": 68,
      "outputs": []
    },
    {
      "cell_type": "code",
      "metadata": {
        "id": "paY2b2lbeMsf",
        "colab_type": "code",
        "colab": {
          "base_uri": "https://localhost:8080/",
          "height": 264
        },
        "outputId": "c6da0e48-1c20-4681-b2c0-f91930633a57"
      },
      "source": [
        "labels=['Not interested','Interested']\n",
        "sizes=[df['Response'].value_counts()]\n",
        "fig1,ax1=plt.subplots()\n",
        "ax1.pie(sizes, labels=labels, autopct='%1.1f%%', shadow=True)\n",
        "ax1.axis('equal')\n",
        "ax1.set_title('Response')\n",
        "plt.show()"
      ],
      "execution_count": 69,
      "outputs": [
        {
          "output_type": "display_data",
          "data": {
            "image/png": "[encoded data removed]",
            "text/plain": [
              "<Figure size 432x288 with 1 Axes>"
            ]
          },
          "metadata": {
            "tags": []
          }
        }
      ]
    },
    {
      "cell_type": "code",
      "metadata": {
        "id": "uUJyFfzxn2OI",
        "colab_type": "code",
        "colab": {}
      },
      "source": [
        "X=df.drop(['Response'],axis=1)\n",
        "y=df.Response.values"
      ],
      "execution_count": 71,
      "outputs": []
    },
    {
      "cell_type": "code",
      "metadata": {
        "id": "X52fIYjewDdB",
        "colab_type": "code",
        "colab": {
          "base_uri": "https://localhost:8080/",
          "height": 85
        },
        "outputId": "abc611b4-190b-4a77-93a4-5e403c404409"
      },
      "source": [
        "X.columns"
      ],
      "execution_count": 72,
      "outputs": [
        {
          "output_type": "execute_result",
          "data": {
            "text/plain": [
              "Index(['Gender', 'Age', 'Driving_License', 'Region_Code', 'Previously_Insured',\n",
              "       'Vehicle_Age', 'Vehicle_Damage', 'Annual_Premium',\n",
              "       'Policy_Sales_Channel', 'Vintage'],\n",
              "      dtype='object')"
            ]
          },
          "metadata": {
            "tags": []
          },
          "execution_count": 72
        }
      ]
    },
    {
      "cell_type": "code",
      "metadata": {
        "id": "lsL0twVRpWrd",
        "colab_type": "code",
        "colab": {
          "base_uri": "https://localhost:8080/",
          "height": 34
        },
        "outputId": "1156c4e7-12f9-48ad-fe03-d6be085851ba"
      },
      "source": [
        "y\n"
      ],
      "execution_count": 73,
      "outputs": [
        {
          "output_type": "execute_result",
          "data": {
            "text/plain": [
              "array([1, 0, 1, ..., 0, 0, 0])"
            ]
          },
          "metadata": {
            "tags": []
          },
          "execution_count": 73
        }
      ]
    },
    {
      "cell_type": "markdown",
      "metadata": {
        "id": "IpUY5Wp8eeJr",
        "colab_type": "text"
      },
      "source": [
        "\n",
        "\n",
        "*  Balancing the dataset as it was imbalanced\n"
      ]
    },
    {
      "cell_type": "code",
      "metadata": {
        "id": "1f61LInjmS--",
        "colab_type": "code",
        "colab": {}
      },
      "source": [
        "from imblearn.over_sampling import SMOTE\n",
        "sm=SMOTE()"
      ],
      "execution_count": 74,
      "outputs": []
    },
    {
      "cell_type": "code",
      "metadata": {
        "id": "n0WxWAKXnlfg",
        "colab_type": "code",
        "colab": {}
      },
      "source": [
        "X_res,y_res=sm.fit_sample(X,y)"
      ],
      "execution_count": 75,
      "outputs": []
    },
    {
      "cell_type": "code",
      "metadata": {
        "id": "-v29Nopil5iW",
        "colab_type": "code",
        "colab": {
          "base_uri": "https://localhost:8080/",
          "height": 34
        },
        "outputId": "4be0fdd5-a530-47ba-8b8c-c4e400549c62"
      },
      "source": [
        "X_res.shape,y_res.shape"
      ],
      "execution_count": 76,
      "outputs": [
        {
          "output_type": "execute_result",
          "data": {
            "text/plain": [
              "((651268, 10), (651268,))"
            ]
          },
          "metadata": {
            "tags": []
          },
          "execution_count": 76
        }
      ]
    },
    {
      "cell_type": "code",
      "metadata": {
        "id": "SJnjCOLhmOSv",
        "colab_type": "code",
        "colab": {
          "base_uri": "https://localhost:8080/",
          "height": 51
        },
        "outputId": "e4834712-f1e6-475c-8af0-b12bd9cb936a"
      },
      "source": [
        "from collections import Counter\n",
        "print(\"Orginal Dataset Shape {}\".format(Counter(y)))\n",
        "print(\"Applying Smote dataset shape {}\".format(Counter(y_res)))"
      ],
      "execution_count": 77,
      "outputs": [
        {
          "output_type": "stream",
          "text": [
            "Orginal Dataset Shape Counter({0: 325634, 1: 45155})\n",
            "Applying Smote dataset shape Counter({1: 325634, 0: 325634})\n"
          ],
          "name": "stdout"
        }
      ]
    },
    {
      "cell_type": "markdown",
      "metadata": {
        "id": "7LXGgxBcevj7",
        "colab_type": "text"
      },
      "source": [
        "**Model Building**"
      ]
    },
    {
      "cell_type": "code",
      "metadata": {
        "id": "Rj4qaYUAlOCH",
        "colab_type": "code",
        "colab": {
          "base_uri": "https://localhost:8080/",
          "height": 85
        },
        "outputId": "b6d3d02c-f673-4c73-ea2f-5c5e33d728a5"
      },
      "source": [
        "from sklearn.model_selection import train_test_split\n",
        "X_train,X_test,y_train,y_test=train_test_split(X_res,y_res,test_size=0.3,random_state=23,stratify=y_res,shuffle=True)\n",
        "print(X_train.shape)\n",
        "print(X_test.shape)\n",
        "print(y_train.shape)\n",
        "print(y_test.shape)"
      ],
      "execution_count": 78,
      "outputs": [
        {
          "output_type": "stream",
          "text": [
            "(455887, 10)\n",
            "(195381, 10)\n",
            "(455887,)\n",
            "(195381,)\n"
          ],
          "name": "stdout"
        }
      ]
    },
    {
      "cell_type": "markdown",
      "metadata": {
        "id": "17YYbripe2Zr",
        "colab_type": "text"
      },
      "source": [
        "**Feature Scaling**"
      ]
    },
    {
      "cell_type": "code",
      "metadata": {
        "id": "H0XdFKEIopFq",
        "colab_type": "code",
        "colab": {}
      },
      "source": [
        "from sklearn.preprocessing import StandardScaler\n",
        "sc=StandardScaler()"
      ],
      "execution_count": 79,
      "outputs": []
    },
    {
      "cell_type": "code",
      "metadata": {
        "id": "Z5KNkhgCpzOk",
        "colab_type": "code",
        "colab": {}
      },
      "source": [
        "X_train_res=sc.fit_transform(X_train)\n",
        "X_test_res=sc.transform(X_test)"
      ],
      "execution_count": 80,
      "outputs": []
    },
    {
      "cell_type": "markdown",
      "metadata": {
        "id": "R9IGdHcIgEXH",
        "colab_type": "text"
      },
      "source": [
        "**Randomforest**"
      ]
    },
    {
      "cell_type": "code",
      "metadata": {
        "id": "j-588OKDp8GZ",
        "colab_type": "code",
        "colab": {}
      },
      "source": [
        " from sklearn.ensemble import RandomForestClassifier\n",
        " rf=RandomForestClassifier()\n",
        " model=rf.fit(X_train_res,y_train)\n"
      ],
      "execution_count": 81,
      "outputs": []
    },
    {
      "cell_type": "code",
      "metadata": {
        "id": "m2eYQNpnffPP",
        "colab_type": "code",
        "colab": {}
      },
      "source": [
        "y_pred=model.predict(X_test_res)"
      ],
      "execution_count": 82,
      "outputs": []
    },
    {
      "cell_type": "code",
      "metadata": {
        "id": "6vdcTEinffho",
        "colab_type": "code",
        "colab": {
          "base_uri": "https://localhost:8080/",
          "height": 34
        },
        "outputId": "332a0084-1878-4960-f8c3-d3e79e5efdd5"
      },
      "source": [
        " from sklearn.metrics import accuracy_score\n",
        " accuracy_score(y_test,y_pred)"
      ],
      "execution_count": 84,
      "outputs": [
        {
          "output_type": "execute_result",
          "data": {
            "text/plain": [
              "0.9162764035397505"
            ]
          },
          "metadata": {
            "tags": []
          },
          "execution_count": 84
        }
      ]
    },
    {
      "cell_type": "markdown",
      "metadata": {
        "id": "pSVCFinvgXLM",
        "colab_type": "text"
      },
      "source": [
        "**Now,lets try with Xgboost**\n",
        "\n"
      ]
    },
    {
      "cell_type": "code",
      "metadata": {
        "id": "nUq1oCVg04gE",
        "colab_type": "code",
        "colab": {
          "base_uri": "https://localhost:8080/",
          "height": 68
        },
        "outputId": "06938bcf-f5ff-4f18-e29f-a9545d713575"
      },
      "source": [
        "!pip install xgboost"
      ],
      "execution_count": 85,
      "outputs": [
        {
          "output_type": "stream",
          "text": [
            "Requirement already satisfied: xgboost in /usr/local/lib/python3.6/dist-packages (0.90)\n",
            "Requirement already satisfied: numpy in /usr/local/lib/python3.6/dist-packages (from xgboost) (1.18.5)\n",
            "Requirement already satisfied: scipy in /usr/local/lib/python3.6/dist-packages (from xgboost) (1.4.1)\n"
          ],
          "name": "stdout"
        }
      ]
    },
    {
      "cell_type": "code",
      "metadata": {
        "id": "fYIX0R4Z06yY",
        "colab_type": "code",
        "colab": {}
      },
      "source": [
        "from xgboost import  XGBClassifier\n",
        "xg=XGBClassifier()"
      ],
      "execution_count": 86,
      "outputs": []
    },
    {
      "cell_type": "code",
      "metadata": {
        "id": "uHcJV0WBqQ82",
        "colab_type": "code",
        "colab": {}
      },
      "source": [
        "model=xg.fit(X_train_res,y_train)"
      ],
      "execution_count": 87,
      "outputs": []
    },
    {
      "cell_type": "code",
      "metadata": {
        "id": "L-biDMSNqXde",
        "colab_type": "code",
        "colab": {}
      },
      "source": [
        "y_pred=model.predict(X_test_res)"
      ],
      "execution_count": 88,
      "outputs": []
    },
    {
      "cell_type": "code",
      "metadata": {
        "id": "1Btd0E4yqyEM",
        "colab_type": "code",
        "colab": {}
      },
      "source": [
        "from sklearn.metrics import roc_auc_score,roc_curve,precision_score,f1_score,classification_report,plot_confusion_matrix"
      ],
      "execution_count": 104,
      "outputs": []
    },
    {
      "cell_type": "code",
      "metadata": {
        "id": "bl7CEm8trEzu",
        "colab_type": "code",
        "colab": {
          "base_uri": "https://localhost:8080/",
          "height": 34
        },
        "outputId": "96b1658a-c81b-432d-fa9b-6ebb403171da"
      },
      "source": [
        "accuracy_score(y_test,y_pred)"
      ],
      "execution_count": 90,
      "outputs": [
        {
          "output_type": "execute_result",
          "data": {
            "text/plain": [
              "0.8648384438609691"
            ]
          },
          "metadata": {
            "tags": []
          },
          "execution_count": 90
        }
      ]
    },
    {
      "cell_type": "code",
      "metadata": {
        "id": "mSBDLSJcrI_V",
        "colab_type": "code",
        "colab": {
          "base_uri": "https://localhost:8080/",
          "height": 34
        },
        "outputId": "5f294f6c-c1b6-45c4-cb96-ac207138f53b"
      },
      "source": [
        "precision_score(y_test,y_pred)"
      ],
      "execution_count": 91,
      "outputs": [
        {
          "output_type": "execute_result",
          "data": {
            "text/plain": [
              "0.8276927320369604"
            ]
          },
          "metadata": {
            "tags": []
          },
          "execution_count": 91
        }
      ]
    },
    {
      "cell_type": "markdown",
      "metadata": {
        "id": "jpsDFYy3hGir",
        "colab_type": "text"
      },
      "source": [
        "**catboost**"
      ]
    },
    {
      "cell_type": "code",
      "metadata": {
        "id": "KAg7tbbhKp_c",
        "colab_type": "code",
        "colab": {
          "base_uri": "https://localhost:8080/",
          "height": 343
        },
        "outputId": "e87522a1-3262-4214-f097-8eb2f19909f2"
      },
      "source": [
        " !pip install catboost"
      ],
      "execution_count": 92,
      "outputs": [
        {
          "output_type": "stream",
          "text": [
            "Collecting catboost\n",
            "\u001b[?25l  Downloading https://files.pythonhosted.org/packages/90/86/c3dcb600b4f9e7584ed90ea9d30a717fb5c0111574675f442c3e7bc19535/catboost-0.24.1-cp36-none-manylinux1_x86_64.whl (66.1MB)\n",
            "\u001b[K     |████████████████████████████████| 66.1MB 42kB/s \n",
            "\u001b[?25hRequirement already satisfied: six in /usr/local/lib/python3.6/dist-packages (from catboost) (1.15.0)\n",
            "Requirement already satisfied: numpy>=1.16.0 in /usr/local/lib/python3.6/dist-packages (from catboost) (1.18.5)\n",
            "Requirement already satisfied: graphviz in /usr/local/lib/python3.6/dist-packages (from catboost) (0.10.1)\n",
            "Requirement already satisfied: matplotlib in /usr/local/lib/python3.6/dist-packages (from catboost) (3.2.2)\n",
            "Requirement already satisfied: scipy in /usr/local/lib/python3.6/dist-packages (from catboost) (1.4.1)\n",
            "Requirement already satisfied: pandas>=0.24.0 in /usr/local/lib/python3.6/dist-packages (from catboost) (1.0.5)\n",
            "Requirement already satisfied: plotly in /usr/local/lib/python3.6/dist-packages (from catboost) (4.4.1)\n",
            "Requirement already satisfied: pyparsing!=2.0.4,!=2.1.2,!=2.1.6,>=2.0.1 in /usr/local/lib/python3.6/dist-packages (from matplotlib->catboost) (2.4.7)\n",
            "Requirement already satisfied: python-dateutil>=2.1 in /usr/local/lib/python3.6/dist-packages (from matplotlib->catboost) (2.8.1)\n",
            "Requirement already satisfied: kiwisolver>=1.0.1 in /usr/local/lib/python3.6/dist-packages (from matplotlib->catboost) (1.2.0)\n",
            "Requirement already satisfied: cycler>=0.10 in /usr/local/lib/python3.6/dist-packages (from matplotlib->catboost) (0.10.0)\n",
            "Requirement already satisfied: pytz>=2017.2 in /usr/local/lib/python3.6/dist-packages (from pandas>=0.24.0->catboost) (2018.9)\n",
            "Requirement already satisfied: retrying>=1.3.3 in /usr/local/lib/python3.6/dist-packages (from plotly->catboost) (1.3.3)\n",
            "Installing collected packages: catboost\n",
            "Successfully installed catboost-0.24.1\n"
          ],
          "name": "stdout"
        }
      ]
    },
    {
      "cell_type": "code",
      "metadata": {
        "id": "BFIxKabQee0E",
        "colab_type": "code",
        "colab": {}
      },
      "source": [
        " from catboost import CatBoostClassifier\n",
        " cb=CatBoostClassifier()"
      ],
      "execution_count": 96,
      "outputs": []
    },
    {
      "cell_type": "code",
      "metadata": {
        "id": "_TJicIjtee8D",
        "colab_type": "code",
        "colab": {
          "base_uri": "https://localhost:8080/",
          "height": 1000
        },
        "outputId": "8762a862-4873-4dca-9eeb-3b3b0ad4d742"
      },
      "source": [
        "\n",
        "model_cb=cb.fit(X_train_res,y_train)\n",
        "\n",
        " "
      ],
      "execution_count": 97,
      "outputs": [
        {
          "output_type": "stream",
          "text": [
            "Learning rate set to 0.140691\n",
            "0:\tlearn: 0.4836752\ttotal: 145ms\tremaining: 2m 25s\n",
            "1:\tlearn: 0.4055048\ttotal: 274ms\tremaining: 2m 16s\n",
            "2:\tlearn: 0.3528990\ttotal: 406ms\tremaining: 2m 14s\n",
            "3:\tlearn: 0.3228491\ttotal: 540ms\tremaining: 2m 14s\n",
            "4:\tlearn: 0.3125648\ttotal: 668ms\tremaining: 2m 12s\n",
            "5:\tlearn: 0.3054911\ttotal: 801ms\tremaining: 2m 12s\n",
            "6:\tlearn: 0.2976520\ttotal: 930ms\tremaining: 2m 11s\n",
            "7:\tlearn: 0.2952213\ttotal: 1.07s\tremaining: 2m 12s\n",
            "8:\tlearn: 0.2880415\ttotal: 1.21s\tremaining: 2m 13s\n",
            "9:\tlearn: 0.2839031\ttotal: 1.34s\tremaining: 2m 13s\n",
            "10:\tlearn: 0.2818412\ttotal: 1.46s\tremaining: 2m 11s\n",
            "11:\tlearn: 0.2803928\ttotal: 1.59s\tremaining: 2m 10s\n",
            "12:\tlearn: 0.2784361\ttotal: 1.72s\tremaining: 2m 10s\n",
            "13:\tlearn: 0.2769166\ttotal: 1.84s\tremaining: 2m 9s\n",
            "14:\tlearn: 0.2750227\ttotal: 1.97s\tremaining: 2m 9s\n",
            "15:\tlearn: 0.2717534\ttotal: 2.11s\tremaining: 2m 9s\n",
            "16:\tlearn: 0.2700567\ttotal: 2.25s\tremaining: 2m 10s\n",
            "17:\tlearn: 0.2655194\ttotal: 2.39s\tremaining: 2m 10s\n",
            "18:\tlearn: 0.2601283\ttotal: 2.52s\tremaining: 2m 10s\n",
            "19:\tlearn: 0.2540888\ttotal: 2.66s\tremaining: 2m 10s\n",
            "20:\tlearn: 0.2486557\ttotal: 2.81s\tremaining: 2m 10s\n",
            "21:\tlearn: 0.2451157\ttotal: 2.95s\tremaining: 2m 11s\n",
            "22:\tlearn: 0.2426672\ttotal: 3.09s\tremaining: 2m 11s\n",
            "23:\tlearn: 0.2419572\ttotal: 3.23s\tremaining: 2m 11s\n",
            "24:\tlearn: 0.2411951\ttotal: 3.35s\tremaining: 2m 10s\n",
            "25:\tlearn: 0.2391501\ttotal: 3.48s\tremaining: 2m 10s\n",
            "26:\tlearn: 0.2377837\ttotal: 3.62s\tremaining: 2m 10s\n",
            "27:\tlearn: 0.2351050\ttotal: 3.75s\tremaining: 2m 10s\n",
            "28:\tlearn: 0.2335240\ttotal: 3.88s\tremaining: 2m 10s\n",
            "29:\tlearn: 0.2317700\ttotal: 4.02s\tremaining: 2m 10s\n",
            "30:\tlearn: 0.2307887\ttotal: 4.16s\tremaining: 2m 10s\n",
            "31:\tlearn: 0.2298218\ttotal: 4.3s\tremaining: 2m 10s\n",
            "32:\tlearn: 0.2278657\ttotal: 4.43s\tremaining: 2m 9s\n",
            "33:\tlearn: 0.2263574\ttotal: 4.57s\tremaining: 2m 9s\n",
            "34:\tlearn: 0.2257327\ttotal: 4.7s\tremaining: 2m 9s\n",
            "35:\tlearn: 0.2252474\ttotal: 4.83s\tremaining: 2m 9s\n",
            "36:\tlearn: 0.2234091\ttotal: 4.96s\tremaining: 2m 9s\n",
            "37:\tlearn: 0.2227875\ttotal: 5.1s\tremaining: 2m 9s\n",
            "38:\tlearn: 0.2219872\ttotal: 5.24s\tremaining: 2m 9s\n",
            "39:\tlearn: 0.2210128\ttotal: 5.37s\tremaining: 2m 8s\n",
            "40:\tlearn: 0.2201931\ttotal: 5.5s\tremaining: 2m 8s\n",
            "41:\tlearn: 0.2194805\ttotal: 5.63s\tremaining: 2m 8s\n",
            "42:\tlearn: 0.2193165\ttotal: 5.76s\tremaining: 2m 8s\n",
            "43:\tlearn: 0.2188680\ttotal: 5.89s\tremaining: 2m 8s\n",
            "44:\tlearn: 0.2182625\ttotal: 6.02s\tremaining: 2m 7s\n",
            "45:\tlearn: 0.2168756\ttotal: 6.18s\tremaining: 2m 8s\n",
            "46:\tlearn: 0.2162228\ttotal: 6.33s\tremaining: 2m 8s\n",
            "47:\tlearn: 0.2156140\ttotal: 6.48s\tremaining: 2m 8s\n",
            "48:\tlearn: 0.2150356\ttotal: 6.61s\tremaining: 2m 8s\n",
            "49:\tlearn: 0.2148680\ttotal: 6.73s\tremaining: 2m 7s\n",
            "50:\tlearn: 0.2144094\ttotal: 6.87s\tremaining: 2m 7s\n",
            "51:\tlearn: 0.2139367\ttotal: 6.99s\tremaining: 2m 7s\n",
            "52:\tlearn: 0.2128887\ttotal: 7.13s\tremaining: 2m 7s\n",
            "53:\tlearn: 0.2120015\ttotal: 7.28s\tremaining: 2m 7s\n",
            "54:\tlearn: 0.2114431\ttotal: 7.4s\tremaining: 2m 7s\n",
            "55:\tlearn: 0.2113591\ttotal: 7.53s\tremaining: 2m 6s\n",
            "56:\tlearn: 0.2102952\ttotal: 7.66s\tremaining: 2m 6s\n",
            "57:\tlearn: 0.2097726\ttotal: 7.8s\tremaining: 2m 6s\n",
            "58:\tlearn: 0.2096176\ttotal: 7.93s\tremaining: 2m 6s\n",
            "59:\tlearn: 0.2088193\ttotal: 8.06s\tremaining: 2m 6s\n",
            "60:\tlearn: 0.2080966\ttotal: 8.2s\tremaining: 2m 6s\n",
            "61:\tlearn: 0.2077753\ttotal: 8.34s\tremaining: 2m 6s\n",
            "62:\tlearn: 0.2075621\ttotal: 8.48s\tremaining: 2m 6s\n",
            "63:\tlearn: 0.2067635\ttotal: 8.61s\tremaining: 2m 5s\n",
            "64:\tlearn: 0.2064641\ttotal: 8.74s\tremaining: 2m 5s\n",
            "65:\tlearn: 0.2063331\ttotal: 8.87s\tremaining: 2m 5s\n",
            "66:\tlearn: 0.2050799\ttotal: 9.01s\tremaining: 2m 5s\n",
            "67:\tlearn: 0.2048927\ttotal: 9.16s\tremaining: 2m 5s\n",
            "68:\tlearn: 0.2042892\ttotal: 9.3s\tremaining: 2m 5s\n",
            "69:\tlearn: 0.2029527\ttotal: 9.44s\tremaining: 2m 5s\n",
            "70:\tlearn: 0.2018613\ttotal: 9.57s\tremaining: 2m 5s\n",
            "71:\tlearn: 0.2007307\ttotal: 9.71s\tremaining: 2m 5s\n",
            "72:\tlearn: 0.2005973\ttotal: 9.84s\tremaining: 2m 5s\n",
            "73:\tlearn: 0.2004599\ttotal: 9.98s\tremaining: 2m 4s\n",
            "74:\tlearn: 0.1999844\ttotal: 10.1s\tremaining: 2m 4s\n",
            "75:\tlearn: 0.1995834\ttotal: 10.3s\tremaining: 2m 4s\n",
            "76:\tlearn: 0.1987152\ttotal: 10.4s\tremaining: 2m 4s\n",
            "77:\tlearn: 0.1982980\ttotal: 10.5s\tremaining: 2m 4s\n",
            "78:\tlearn: 0.1979673\ttotal: 10.7s\tremaining: 2m 4s\n",
            "79:\tlearn: 0.1976418\ttotal: 10.8s\tremaining: 2m 4s\n",
            "80:\tlearn: 0.1963141\ttotal: 10.9s\tremaining: 2m 4s\n",
            "81:\tlearn: 0.1960147\ttotal: 11.1s\tremaining: 2m 3s\n",
            "82:\tlearn: 0.1957924\ttotal: 11.2s\tremaining: 2m 3s\n",
            "83:\tlearn: 0.1950048\ttotal: 11.4s\tremaining: 2m 3s\n",
            "84:\tlearn: 0.1944060\ttotal: 11.5s\tremaining: 2m 3s\n",
            "85:\tlearn: 0.1940714\ttotal: 11.6s\tremaining: 2m 3s\n",
            "86:\tlearn: 0.1937283\ttotal: 11.8s\tremaining: 2m 3s\n",
            "87:\tlearn: 0.1929828\ttotal: 11.9s\tremaining: 2m 3s\n",
            "88:\tlearn: 0.1924213\ttotal: 12s\tremaining: 2m 3s\n",
            "89:\tlearn: 0.1920400\ttotal: 12.2s\tremaining: 2m 2s\n",
            "90:\tlearn: 0.1914062\ttotal: 12.3s\tremaining: 2m 2s\n",
            "91:\tlearn: 0.1912694\ttotal: 12.4s\tremaining: 2m 2s\n",
            "92:\tlearn: 0.1910262\ttotal: 12.6s\tremaining: 2m 2s\n",
            "93:\tlearn: 0.1908626\ttotal: 12.7s\tremaining: 2m 2s\n",
            "94:\tlearn: 0.1904509\ttotal: 12.8s\tremaining: 2m 2s\n",
            "95:\tlearn: 0.1901218\ttotal: 12.9s\tremaining: 2m 1s\n",
            "96:\tlearn: 0.1892236\ttotal: 13.1s\tremaining: 2m 1s\n",
            "97:\tlearn: 0.1876118\ttotal: 13.2s\tremaining: 2m 1s\n",
            "98:\tlearn: 0.1868559\ttotal: 13.4s\tremaining: 2m 1s\n",
            "99:\tlearn: 0.1860108\ttotal: 13.5s\tremaining: 2m 1s\n",
            "100:\tlearn: 0.1855595\ttotal: 13.6s\tremaining: 2m 1s\n",
            "101:\tlearn: 0.1854018\ttotal: 13.8s\tremaining: 2m 1s\n",
            "102:\tlearn: 0.1848574\ttotal: 13.9s\tremaining: 2m 1s\n",
            "103:\tlearn: 0.1845891\ttotal: 14s\tremaining: 2m 1s\n",
            "104:\tlearn: 0.1842556\ttotal: 14.2s\tremaining: 2m\n",
            "105:\tlearn: 0.1840246\ttotal: 14.3s\tremaining: 2m\n",
            "106:\tlearn: 0.1836250\ttotal: 14.5s\tremaining: 2m\n",
            "107:\tlearn: 0.1834205\ttotal: 14.6s\tremaining: 2m\n",
            "108:\tlearn: 0.1831690\ttotal: 14.7s\tremaining: 2m\n",
            "109:\tlearn: 0.1829178\ttotal: 14.8s\tremaining: 2m\n",
            "110:\tlearn: 0.1826443\ttotal: 15s\tremaining: 1m 59s\n",
            "111:\tlearn: 0.1824167\ttotal: 15.1s\tremaining: 1m 59s\n",
            "112:\tlearn: 0.1822980\ttotal: 15.2s\tremaining: 1m 59s\n",
            "113:\tlearn: 0.1822643\ttotal: 15.4s\tremaining: 1m 59s\n",
            "114:\tlearn: 0.1821452\ttotal: 15.5s\tremaining: 1m 59s\n",
            "115:\tlearn: 0.1820368\ttotal: 15.6s\tremaining: 1m 58s\n",
            "116:\tlearn: 0.1819991\ttotal: 15.7s\tremaining: 1m 58s\n",
            "117:\tlearn: 0.1818172\ttotal: 15.9s\tremaining: 1m 58s\n",
            "118:\tlearn: 0.1815247\ttotal: 16s\tremaining: 1m 58s\n",
            "119:\tlearn: 0.1814576\ttotal: 16.1s\tremaining: 1m 58s\n",
            "120:\tlearn: 0.1808662\ttotal: 16.3s\tremaining: 1m 58s\n",
            "121:\tlearn: 0.1804301\ttotal: 16.4s\tremaining: 1m 58s\n",
            "122:\tlearn: 0.1801376\ttotal: 16.5s\tremaining: 1m 57s\n",
            "123:\tlearn: 0.1799180\ttotal: 16.7s\tremaining: 1m 57s\n",
            "124:\tlearn: 0.1796735\ttotal: 16.8s\tremaining: 1m 57s\n",
            "125:\tlearn: 0.1794062\ttotal: 16.9s\tremaining: 1m 57s\n",
            "126:\tlearn: 0.1790713\ttotal: 17.1s\tremaining: 1m 57s\n",
            "127:\tlearn: 0.1783677\ttotal: 17.2s\tremaining: 1m 57s\n",
            "128:\tlearn: 0.1782386\ttotal: 17.4s\tremaining: 1m 57s\n",
            "129:\tlearn: 0.1777021\ttotal: 17.5s\tremaining: 1m 57s\n",
            "130:\tlearn: 0.1773913\ttotal: 17.6s\tremaining: 1m 56s\n",
            "131:\tlearn: 0.1767674\ttotal: 17.8s\tremaining: 1m 56s\n",
            "132:\tlearn: 0.1763991\ttotal: 17.9s\tremaining: 1m 56s\n",
            "133:\tlearn: 0.1762595\ttotal: 18s\tremaining: 1m 56s\n",
            "134:\tlearn: 0.1760242\ttotal: 18.2s\tremaining: 1m 56s\n",
            "135:\tlearn: 0.1758280\ttotal: 18.3s\tremaining: 1m 56s\n",
            "136:\tlearn: 0.1755822\ttotal: 18.4s\tremaining: 1m 56s\n",
            "137:\tlearn: 0.1753954\ttotal: 18.6s\tremaining: 1m 55s\n",
            "138:\tlearn: 0.1751844\ttotal: 18.7s\tremaining: 1m 55s\n",
            "139:\tlearn: 0.1749885\ttotal: 18.8s\tremaining: 1m 55s\n",
            "140:\tlearn: 0.1749501\ttotal: 19s\tremaining: 1m 55s\n",
            "141:\tlearn: 0.1747638\ttotal: 19.1s\tremaining: 1m 55s\n",
            "142:\tlearn: 0.1743185\ttotal: 19.2s\tremaining: 1m 55s\n",
            "143:\tlearn: 0.1738426\ttotal: 19.4s\tremaining: 1m 55s\n",
            "144:\tlearn: 0.1736472\ttotal: 19.5s\tremaining: 1m 55s\n",
            "145:\tlearn: 0.1734558\ttotal: 19.6s\tremaining: 1m 54s\n",
            "146:\tlearn: 0.1734092\ttotal: 19.8s\tremaining: 1m 54s\n",
            "147:\tlearn: 0.1731104\ttotal: 19.9s\tremaining: 1m 54s\n",
            "148:\tlearn: 0.1729484\ttotal: 20s\tremaining: 1m 54s\n",
            "149:\tlearn: 0.1729198\ttotal: 20.2s\tremaining: 1m 54s\n",
            "150:\tlearn: 0.1727706\ttotal: 20.3s\tremaining: 1m 54s\n",
            "151:\tlearn: 0.1727416\ttotal: 20.4s\tremaining: 1m 54s\n",
            "152:\tlearn: 0.1725056\ttotal: 20.6s\tremaining: 1m 53s\n",
            "153:\tlearn: 0.1722229\ttotal: 20.7s\tremaining: 1m 53s\n",
            "154:\tlearn: 0.1721152\ttotal: 20.8s\tremaining: 1m 53s\n",
            "155:\tlearn: 0.1719638\ttotal: 21s\tremaining: 1m 53s\n",
            "156:\tlearn: 0.1718690\ttotal: 21.1s\tremaining: 1m 53s\n",
            "157:\tlearn: 0.1717112\ttotal: 21.2s\tremaining: 1m 53s\n",
            "158:\tlearn: 0.1716216\ttotal: 21.4s\tremaining: 1m 53s\n",
            "159:\tlearn: 0.1714174\ttotal: 21.5s\tremaining: 1m 52s\n",
            "160:\tlearn: 0.1712043\ttotal: 21.6s\tremaining: 1m 52s\n",
            "161:\tlearn: 0.1707467\ttotal: 21.8s\tremaining: 1m 52s\n",
            "162:\tlearn: 0.1705719\ttotal: 21.9s\tremaining: 1m 52s\n",
            "163:\tlearn: 0.1704423\ttotal: 22s\tremaining: 1m 52s\n",
            "164:\tlearn: 0.1703712\ttotal: 22.2s\tremaining: 1m 52s\n",
            "165:\tlearn: 0.1702765\ttotal: 22.3s\tremaining: 1m 52s\n",
            "166:\tlearn: 0.1696852\ttotal: 22.5s\tremaining: 1m 52s\n",
            "167:\tlearn: 0.1695947\ttotal: 22.6s\tremaining: 1m 51s\n",
            "168:\tlearn: 0.1693033\ttotal: 22.7s\tremaining: 1m 51s\n",
            "169:\tlearn: 0.1691017\ttotal: 22.9s\tremaining: 1m 51s\n",
            "170:\tlearn: 0.1690484\ttotal: 23s\tremaining: 1m 51s\n",
            "171:\tlearn: 0.1690214\ttotal: 23.1s\tremaining: 1m 51s\n",
            "172:\tlearn: 0.1689248\ttotal: 23.3s\tremaining: 1m 51s\n",
            "173:\tlearn: 0.1688387\ttotal: 23.4s\tremaining: 1m 51s\n",
            "174:\tlearn: 0.1687835\ttotal: 23.5s\tremaining: 1m 50s\n",
            "175:\tlearn: 0.1685990\ttotal: 23.7s\tremaining: 1m 50s\n",
            "176:\tlearn: 0.1684652\ttotal: 23.8s\tremaining: 1m 50s\n",
            "177:\tlearn: 0.1684055\ttotal: 23.9s\tremaining: 1m 50s\n",
            "178:\tlearn: 0.1682238\ttotal: 24.1s\tremaining: 1m 50s\n",
            "179:\tlearn: 0.1681542\ttotal: 24.2s\tremaining: 1m 50s\n",
            "180:\tlearn: 0.1679453\ttotal: 24.3s\tremaining: 1m 50s\n",
            "181:\tlearn: 0.1677744\ttotal: 24.5s\tremaining: 1m 50s\n",
            "182:\tlearn: 0.1676957\ttotal: 24.6s\tremaining: 1m 49s\n",
            "183:\tlearn: 0.1676180\ttotal: 24.7s\tremaining: 1m 49s\n",
            "184:\tlearn: 0.1675867\ttotal: 24.9s\tremaining: 1m 49s\n",
            "185:\tlearn: 0.1674312\ttotal: 25s\tremaining: 1m 49s\n",
            "186:\tlearn: 0.1673698\ttotal: 25.1s\tremaining: 1m 49s\n",
            "187:\tlearn: 0.1673298\ttotal: 25.3s\tremaining: 1m 49s\n",
            "188:\tlearn: 0.1671367\ttotal: 25.4s\tremaining: 1m 49s\n",
            "189:\tlearn: 0.1670378\ttotal: 25.6s\tremaining: 1m 48s\n",
            "190:\tlearn: 0.1668763\ttotal: 25.7s\tremaining: 1m 48s\n",
            "191:\tlearn: 0.1666631\ttotal: 25.9s\tremaining: 1m 48s\n",
            "192:\tlearn: 0.1664626\ttotal: 26s\tremaining: 1m 48s\n",
            "193:\tlearn: 0.1664326\ttotal: 26.1s\tremaining: 1m 48s\n",
            "194:\tlearn: 0.1663883\ttotal: 26.3s\tremaining: 1m 48s\n",
            "195:\tlearn: 0.1662362\ttotal: 26.4s\tremaining: 1m 48s\n",
            "196:\tlearn: 0.1662162\ttotal: 26.5s\tremaining: 1m 48s\n",
            "197:\tlearn: 0.1661987\ttotal: 26.7s\tremaining: 1m 48s\n",
            "198:\tlearn: 0.1660213\ttotal: 26.8s\tremaining: 1m 47s\n",
            "199:\tlearn: 0.1659368\ttotal: 26.9s\tremaining: 1m 47s\n",
            "200:\tlearn: 0.1658915\ttotal: 27.1s\tremaining: 1m 47s\n",
            "201:\tlearn: 0.1658068\ttotal: 27.2s\tremaining: 1m 47s\n",
            "202:\tlearn: 0.1657734\ttotal: 27.3s\tremaining: 1m 47s\n",
            "203:\tlearn: 0.1657471\ttotal: 27.5s\tremaining: 1m 47s\n",
            "204:\tlearn: 0.1657189\ttotal: 27.6s\tremaining: 1m 47s\n",
            "205:\tlearn: 0.1656826\ttotal: 27.8s\tremaining: 1m 47s\n",
            "206:\tlearn: 0.1656554\ttotal: 27.9s\tremaining: 1m 46s\n",
            "207:\tlearn: 0.1656290\ttotal: 28s\tremaining: 1m 46s\n",
            "208:\tlearn: 0.1656056\ttotal: 28.2s\tremaining: 1m 46s\n",
            "209:\tlearn: 0.1655627\ttotal: 28.3s\tremaining: 1m 46s\n",
            "210:\tlearn: 0.1654961\ttotal: 28.4s\tremaining: 1m 46s\n",
            "211:\tlearn: 0.1652720\ttotal: 28.6s\tremaining: 1m 46s\n",
            "212:\tlearn: 0.1652468\ttotal: 28.7s\tremaining: 1m 46s\n",
            "213:\tlearn: 0.1650660\ttotal: 28.8s\tremaining: 1m 45s\n",
            "214:\tlearn: 0.1649899\ttotal: 29s\tremaining: 1m 45s\n",
            "215:\tlearn: 0.1649607\ttotal: 29.1s\tremaining: 1m 45s\n",
            "216:\tlearn: 0.1649211\ttotal: 29.2s\tremaining: 1m 45s\n",
            "217:\tlearn: 0.1648952\ttotal: 29.4s\tremaining: 1m 45s\n",
            "218:\tlearn: 0.1647984\ttotal: 29.5s\tremaining: 1m 45s\n",
            "219:\tlearn: 0.1647718\ttotal: 29.6s\tremaining: 1m 45s\n",
            "220:\tlearn: 0.1647475\ttotal: 29.8s\tremaining: 1m 44s\n",
            "221:\tlearn: 0.1645245\ttotal: 29.9s\tremaining: 1m 44s\n",
            "222:\tlearn: 0.1642754\ttotal: 30s\tremaining: 1m 44s\n",
            "223:\tlearn: 0.1642501\ttotal: 30.2s\tremaining: 1m 44s\n",
            "224:\tlearn: 0.1641725\ttotal: 30.3s\tremaining: 1m 44s\n",
            "225:\tlearn: 0.1641500\ttotal: 30.4s\tremaining: 1m 44s\n",
            "226:\tlearn: 0.1640392\ttotal: 30.6s\tremaining: 1m 44s\n",
            "227:\tlearn: 0.1639624\ttotal: 30.7s\tremaining: 1m 43s\n",
            "228:\tlearn: 0.1639268\ttotal: 30.8s\tremaining: 1m 43s\n",
            "229:\tlearn: 0.1638963\ttotal: 31s\tremaining: 1m 43s\n",
            "230:\tlearn: 0.1636623\ttotal: 31.1s\tremaining: 1m 43s\n",
            "231:\tlearn: 0.1636334\ttotal: 31.2s\tremaining: 1m 43s\n",
            "232:\tlearn: 0.1636105\ttotal: 31.4s\tremaining: 1m 43s\n",
            "233:\tlearn: 0.1634116\ttotal: 31.5s\tremaining: 1m 43s\n",
            "234:\tlearn: 0.1633200\ttotal: 31.7s\tremaining: 1m 43s\n",
            "235:\tlearn: 0.1631473\ttotal: 31.8s\tremaining: 1m 42s\n",
            "236:\tlearn: 0.1630677\ttotal: 31.9s\tremaining: 1m 42s\n",
            "237:\tlearn: 0.1630448\ttotal: 32.1s\tremaining: 1m 42s\n",
            "238:\tlearn: 0.1629742\ttotal: 32.2s\tremaining: 1m 42s\n",
            "239:\tlearn: 0.1628839\ttotal: 32.3s\tremaining: 1m 42s\n",
            "240:\tlearn: 0.1628665\ttotal: 32.5s\tremaining: 1m 42s\n",
            "241:\tlearn: 0.1628491\ttotal: 32.6s\tremaining: 1m 42s\n",
            "242:\tlearn: 0.1628231\ttotal: 32.7s\tremaining: 1m 41s\n",
            "243:\tlearn: 0.1627146\ttotal: 32.8s\tremaining: 1m 41s\n",
            "244:\tlearn: 0.1626878\ttotal: 33s\tremaining: 1m 41s\n",
            "245:\tlearn: 0.1626639\ttotal: 33.1s\tremaining: 1m 41s\n",
            "246:\tlearn: 0.1626292\ttotal: 33.2s\tremaining: 1m 41s\n",
            "247:\tlearn: 0.1626049\ttotal: 33.4s\tremaining: 1m 41s\n",
            "248:\tlearn: 0.1625673\ttotal: 33.5s\tremaining: 1m 41s\n",
            "249:\tlearn: 0.1625310\ttotal: 33.6s\tremaining: 1m 40s\n",
            "250:\tlearn: 0.1624465\ttotal: 33.8s\tremaining: 1m 40s\n",
            "251:\tlearn: 0.1624195\ttotal: 33.9s\tremaining: 1m 40s\n",
            "252:\tlearn: 0.1623943\ttotal: 34s\tremaining: 1m 40s\n",
            "253:\tlearn: 0.1623066\ttotal: 34.2s\tremaining: 1m 40s\n",
            "254:\tlearn: 0.1621681\ttotal: 34.3s\tremaining: 1m 40s\n",
            "255:\tlearn: 0.1621492\ttotal: 34.4s\tremaining: 1m 40s\n",
            "256:\tlearn: 0.1620408\ttotal: 34.6s\tremaining: 1m 40s\n",
            "257:\tlearn: 0.1620204\ttotal: 34.7s\tremaining: 1m 39s\n",
            "258:\tlearn: 0.1620038\ttotal: 34.9s\tremaining: 1m 39s\n",
            "259:\tlearn: 0.1619828\ttotal: 35s\tremaining: 1m 39s\n",
            "260:\tlearn: 0.1619566\ttotal: 35.1s\tremaining: 1m 39s\n",
            "261:\tlearn: 0.1619344\ttotal: 35.3s\tremaining: 1m 39s\n",
            "262:\tlearn: 0.1618511\ttotal: 35.4s\tremaining: 1m 39s\n",
            "263:\tlearn: 0.1618280\ttotal: 35.5s\tremaining: 1m 39s\n",
            "264:\tlearn: 0.1618084\ttotal: 35.7s\tremaining: 1m 38s\n",
            "265:\tlearn: 0.1617786\ttotal: 35.8s\tremaining: 1m 38s\n",
            "266:\tlearn: 0.1617184\ttotal: 35.9s\tremaining: 1m 38s\n",
            "267:\tlearn: 0.1616473\ttotal: 36.1s\tremaining: 1m 38s\n",
            "268:\tlearn: 0.1616300\ttotal: 36.2s\tremaining: 1m 38s\n",
            "269:\tlearn: 0.1616096\ttotal: 36.3s\tremaining: 1m 38s\n",
            "270:\tlearn: 0.1615899\ttotal: 36.5s\tremaining: 1m 38s\n",
            "271:\tlearn: 0.1615622\ttotal: 36.6s\tremaining: 1m 37s\n",
            "272:\tlearn: 0.1615490\ttotal: 36.7s\tremaining: 1m 37s\n",
            "273:\tlearn: 0.1615197\ttotal: 36.9s\tremaining: 1m 37s\n",
            "274:\tlearn: 0.1614659\ttotal: 37s\tremaining: 1m 37s\n",
            "275:\tlearn: 0.1614452\ttotal: 37.1s\tremaining: 1m 37s\n",
            "276:\tlearn: 0.1614016\ttotal: 37.3s\tremaining: 1m 37s\n",
            "277:\tlearn: 0.1613733\ttotal: 37.4s\tremaining: 1m 37s\n",
            "278:\tlearn: 0.1613520\ttotal: 37.5s\tremaining: 1m 36s\n",
            "279:\tlearn: 0.1612805\ttotal: 37.7s\tremaining: 1m 36s\n",
            "280:\tlearn: 0.1612628\ttotal: 37.8s\tremaining: 1m 36s\n",
            "281:\tlearn: 0.1612384\ttotal: 37.9s\tremaining: 1m 36s\n",
            "282:\tlearn: 0.1612202\ttotal: 38.1s\tremaining: 1m 36s\n",
            "283:\tlearn: 0.1611541\ttotal: 38.2s\tremaining: 1m 36s\n",
            "284:\tlearn: 0.1611342\ttotal: 38.4s\tremaining: 1m 36s\n",
            "285:\tlearn: 0.1611195\ttotal: 38.5s\tremaining: 1m 36s\n",
            "286:\tlearn: 0.1610996\ttotal: 38.6s\tremaining: 1m 35s\n",
            "287:\tlearn: 0.1610798\ttotal: 38.8s\tremaining: 1m 35s\n",
            "288:\tlearn: 0.1610617\ttotal: 38.9s\tremaining: 1m 35s\n",
            "289:\tlearn: 0.1610423\ttotal: 39s\tremaining: 1m 35s\n",
            "290:\tlearn: 0.1609805\ttotal: 39.2s\tremaining: 1m 35s\n",
            "291:\tlearn: 0.1608991\ttotal: 39.3s\tremaining: 1m 35s\n",
            "292:\tlearn: 0.1608715\ttotal: 39.4s\tremaining: 1m 35s\n",
            "293:\tlearn: 0.1608552\ttotal: 39.5s\tremaining: 1m 34s\n",
            "294:\tlearn: 0.1608394\ttotal: 39.7s\tremaining: 1m 34s\n",
            "295:\tlearn: 0.1607696\ttotal: 39.8s\tremaining: 1m 34s\n",
            "296:\tlearn: 0.1607055\ttotal: 40s\tremaining: 1m 34s\n",
            "297:\tlearn: 0.1606875\ttotal: 40.1s\tremaining: 1m 34s\n",
            "298:\tlearn: 0.1606748\ttotal: 40.2s\tremaining: 1m 34s\n",
            "299:\tlearn: 0.1606591\ttotal: 40.3s\tremaining: 1m 34s\n",
            "300:\tlearn: 0.1606377\ttotal: 40.5s\tremaining: 1m 33s\n",
            "301:\tlearn: 0.1606202\ttotal: 40.6s\tremaining: 1m 33s\n",
            "302:\tlearn: 0.1605755\ttotal: 40.8s\tremaining: 1m 33s\n",
            "303:\tlearn: 0.1605541\ttotal: 40.9s\tremaining: 1m 33s\n",
            "304:\tlearn: 0.1605158\ttotal: 41s\tremaining: 1m 33s\n",
            "305:\tlearn: 0.1605004\ttotal: 41.2s\tremaining: 1m 33s\n",
            "306:\tlearn: 0.1604804\ttotal: 41.3s\tremaining: 1m 33s\n",
            "307:\tlearn: 0.1604267\ttotal: 41.4s\tremaining: 1m 33s\n",
            "308:\tlearn: 0.1603890\ttotal: 41.6s\tremaining: 1m 32s\n",
            "309:\tlearn: 0.1603698\ttotal: 41.7s\tremaining: 1m 32s\n",
            "310:\tlearn: 0.1603038\ttotal: 41.8s\tremaining: 1m 32s\n",
            "311:\tlearn: 0.1602804\ttotal: 42s\tremaining: 1m 32s\n",
            "312:\tlearn: 0.1602679\ttotal: 42.1s\tremaining: 1m 32s\n",
            "313:\tlearn: 0.1602435\ttotal: 42.2s\tremaining: 1m 32s\n",
            "314:\tlearn: 0.1602272\ttotal: 42.4s\tremaining: 1m 32s\n",
            "315:\tlearn: 0.1602120\ttotal: 42.5s\tremaining: 1m 31s\n",
            "316:\tlearn: 0.1601437\ttotal: 42.6s\tremaining: 1m 31s\n",
            "317:\tlearn: 0.1600799\ttotal: 42.8s\tremaining: 1m 31s\n",
            "318:\tlearn: 0.1600052\ttotal: 42.9s\tremaining: 1m 31s\n",
            "319:\tlearn: 0.1599133\ttotal: 43s\tremaining: 1m 31s\n",
            "320:\tlearn: 0.1598943\ttotal: 43.2s\tremaining: 1m 31s\n",
            "321:\tlearn: 0.1598078\ttotal: 43.3s\tremaining: 1m 31s\n",
            "322:\tlearn: 0.1597453\ttotal: 43.4s\tremaining: 1m 31s\n",
            "323:\tlearn: 0.1597051\ttotal: 43.6s\tremaining: 1m 30s\n",
            "324:\tlearn: 0.1596876\ttotal: 43.7s\tremaining: 1m 30s\n",
            "325:\tlearn: 0.1596473\ttotal: 43.8s\tremaining: 1m 30s\n",
            "326:\tlearn: 0.1596041\ttotal: 44s\tremaining: 1m 30s\n",
            "327:\tlearn: 0.1595868\ttotal: 44.1s\tremaining: 1m 30s\n",
            "328:\tlearn: 0.1595669\ttotal: 44.2s\tremaining: 1m 30s\n",
            "329:\tlearn: 0.1595507\ttotal: 44.4s\tremaining: 1m 30s\n",
            "330:\tlearn: 0.1595100\ttotal: 44.5s\tremaining: 1m 29s\n",
            "331:\tlearn: 0.1594912\ttotal: 44.6s\tremaining: 1m 29s\n",
            "332:\tlearn: 0.1594743\ttotal: 44.8s\tremaining: 1m 29s\n",
            "333:\tlearn: 0.1594500\ttotal: 44.9s\tremaining: 1m 29s\n",
            "334:\tlearn: 0.1594379\ttotal: 45s\tremaining: 1m 29s\n",
            "335:\tlearn: 0.1594224\ttotal: 45.2s\tremaining: 1m 29s\n",
            "336:\tlearn: 0.1592679\ttotal: 45.3s\tremaining: 1m 29s\n",
            "337:\tlearn: 0.1591501\ttotal: 45.4s\tremaining: 1m 28s\n",
            "338:\tlearn: 0.1590796\ttotal: 45.6s\tremaining: 1m 28s\n",
            "339:\tlearn: 0.1590406\ttotal: 45.7s\tremaining: 1m 28s\n",
            "340:\tlearn: 0.1590198\ttotal: 45.8s\tremaining: 1m 28s\n",
            "341:\tlearn: 0.1589996\ttotal: 46s\tremaining: 1m 28s\n",
            "342:\tlearn: 0.1589831\ttotal: 46.1s\tremaining: 1m 28s\n",
            "343:\tlearn: 0.1588636\ttotal: 46.2s\tremaining: 1m 28s\n",
            "344:\tlearn: 0.1588103\ttotal: 46.4s\tremaining: 1m 28s\n",
            "345:\tlearn: 0.1587997\ttotal: 46.5s\tremaining: 1m 27s\n",
            "346:\tlearn: 0.1587057\ttotal: 46.6s\tremaining: 1m 27s\n",
            "347:\tlearn: 0.1586879\ttotal: 46.8s\tremaining: 1m 27s\n",
            "348:\tlearn: 0.1586711\ttotal: 46.9s\tremaining: 1m 27s\n",
            "349:\tlearn: 0.1586425\ttotal: 47s\tremaining: 1m 27s\n",
            "350:\tlearn: 0.1586262\ttotal: 47.2s\tremaining: 1m 27s\n",
            "351:\tlearn: 0.1586087\ttotal: 47.3s\tremaining: 1m 27s\n",
            "352:\tlearn: 0.1585916\ttotal: 47.4s\tremaining: 1m 26s\n",
            "353:\tlearn: 0.1585725\ttotal: 47.6s\tremaining: 1m 26s\n",
            "354:\tlearn: 0.1585493\ttotal: 47.7s\tremaining: 1m 26s\n",
            "355:\tlearn: 0.1585377\ttotal: 47.8s\tremaining: 1m 26s\n",
            "356:\tlearn: 0.1585160\ttotal: 48s\tremaining: 1m 26s\n",
            "357:\tlearn: 0.1584930\ttotal: 48.1s\tremaining: 1m 26s\n",
            "358:\tlearn: 0.1584717\ttotal: 48.2s\tremaining: 1m 26s\n",
            "359:\tlearn: 0.1584568\ttotal: 48.4s\tremaining: 1m 25s\n",
            "360:\tlearn: 0.1584289\ttotal: 48.5s\tremaining: 1m 25s\n",
            "361:\tlearn: 0.1584139\ttotal: 48.6s\tremaining: 1m 25s\n",
            "362:\tlearn: 0.1583949\ttotal: 48.8s\tremaining: 1m 25s\n",
            "363:\tlearn: 0.1583392\ttotal: 48.9s\tremaining: 1m 25s\n",
            "364:\tlearn: 0.1582742\ttotal: 49s\tremaining: 1m 25s\n",
            "365:\tlearn: 0.1582588\ttotal: 49.2s\tremaining: 1m 25s\n",
            "366:\tlearn: 0.1582407\ttotal: 49.3s\tremaining: 1m 25s\n",
            "367:\tlearn: 0.1582246\ttotal: 49.4s\tremaining: 1m 24s\n",
            "368:\tlearn: 0.1582097\ttotal: 49.6s\tremaining: 1m 24s\n",
            "369:\tlearn: 0.1581795\ttotal: 49.7s\tremaining: 1m 24s\n",
            "370:\tlearn: 0.1581637\ttotal: 49.8s\tremaining: 1m 24s\n",
            "371:\tlearn: 0.1581211\ttotal: 50s\tremaining: 1m 24s\n",
            "372:\tlearn: 0.1580854\ttotal: 50.1s\tremaining: 1m 24s\n",
            "373:\tlearn: 0.1580670\ttotal: 50.3s\tremaining: 1m 24s\n",
            "374:\tlearn: 0.1580553\ttotal: 50.4s\tremaining: 1m 23s\n",
            "375:\tlearn: 0.1580439\ttotal: 50.5s\tremaining: 1m 23s\n",
            "376:\tlearn: 0.1580280\ttotal: 50.6s\tremaining: 1m 23s\n",
            "377:\tlearn: 0.1580139\ttotal: 50.8s\tremaining: 1m 23s\n",
            "378:\tlearn: 0.1579985\ttotal: 50.9s\tremaining: 1m 23s\n",
            "379:\tlearn: 0.1579887\ttotal: 51.1s\tremaining: 1m 23s\n",
            "380:\tlearn: 0.1579747\ttotal: 51.2s\tremaining: 1m 23s\n",
            "381:\tlearn: 0.1579319\ttotal: 51.3s\tremaining: 1m 23s\n",
            "382:\tlearn: 0.1579145\ttotal: 51.4s\tremaining: 1m 22s\n",
            "383:\tlearn: 0.1578997\ttotal: 51.6s\tremaining: 1m 22s\n",
            "384:\tlearn: 0.1578764\ttotal: 51.7s\tremaining: 1m 22s\n",
            "385:\tlearn: 0.1578625\ttotal: 51.8s\tremaining: 1m 22s\n",
            "386:\tlearn: 0.1578497\ttotal: 52s\tremaining: 1m 22s\n",
            "387:\tlearn: 0.1578315\ttotal: 52.1s\tremaining: 1m 22s\n",
            "388:\tlearn: 0.1578112\ttotal: 52.2s\tremaining: 1m 22s\n",
            "389:\tlearn: 0.1577990\ttotal: 52.4s\tremaining: 1m 21s\n",
            "390:\tlearn: 0.1577884\ttotal: 52.5s\tremaining: 1m 21s\n",
            "391:\tlearn: 0.1577763\ttotal: 52.6s\tremaining: 1m 21s\n",
            "392:\tlearn: 0.1577594\ttotal: 52.8s\tremaining: 1m 21s\n",
            "393:\tlearn: 0.1577457\ttotal: 52.9s\tremaining: 1m 21s\n",
            "394:\tlearn: 0.1577341\ttotal: 53s\tremaining: 1m 21s\n",
            "395:\tlearn: 0.1577055\ttotal: 53.2s\tremaining: 1m 21s\n",
            "396:\tlearn: 0.1576811\ttotal: 53.3s\tremaining: 1m 20s\n",
            "397:\tlearn: 0.1576398\ttotal: 53.4s\tremaining: 1m 20s\n",
            "398:\tlearn: 0.1576223\ttotal: 53.6s\tremaining: 1m 20s\n",
            "399:\tlearn: 0.1575870\ttotal: 53.7s\tremaining: 1m 20s\n",
            "400:\tlearn: 0.1575700\ttotal: 53.8s\tremaining: 1m 20s\n",
            "401:\tlearn: 0.1575598\ttotal: 54s\tremaining: 1m 20s\n",
            "402:\tlearn: 0.1575469\ttotal: 54.1s\tremaining: 1m 20s\n",
            "403:\tlearn: 0.1575295\ttotal: 54.3s\tremaining: 1m 20s\n",
            "404:\tlearn: 0.1575111\ttotal: 54.4s\tremaining: 1m 19s\n",
            "405:\tlearn: 0.1574833\ttotal: 54.5s\tremaining: 1m 19s\n",
            "406:\tlearn: 0.1574702\ttotal: 54.7s\tremaining: 1m 19s\n",
            "407:\tlearn: 0.1574569\ttotal: 54.8s\tremaining: 1m 19s\n",
            "408:\tlearn: 0.1574390\ttotal: 54.9s\tremaining: 1m 19s\n",
            "409:\tlearn: 0.1574251\ttotal: 55.1s\tremaining: 1m 19s\n",
            "410:\tlearn: 0.1574149\ttotal: 55.2s\tremaining: 1m 19s\n",
            "411:\tlearn: 0.1574028\ttotal: 55.3s\tremaining: 1m 18s\n",
            "412:\tlearn: 0.1573577\ttotal: 55.5s\tremaining: 1m 18s\n",
            "413:\tlearn: 0.1573432\ttotal: 55.6s\tremaining: 1m 18s\n",
            "414:\tlearn: 0.1573277\ttotal: 55.7s\tremaining: 1m 18s\n",
            "415:\tlearn: 0.1573129\ttotal: 55.9s\tremaining: 1m 18s\n",
            "416:\tlearn: 0.1572493\ttotal: 56s\tremaining: 1m 18s\n",
            "417:\tlearn: 0.1572350\ttotal: 56.1s\tremaining: 1m 18s\n",
            "418:\tlearn: 0.1570919\ttotal: 56.3s\tremaining: 1m 18s\n",
            "419:\tlearn: 0.1570791\ttotal: 56.4s\tremaining: 1m 17s\n",
            "420:\tlearn: 0.1570622\ttotal: 56.5s\tremaining: 1m 17s\n",
            "421:\tlearn: 0.1570435\ttotal: 56.7s\tremaining: 1m 17s\n",
            "422:\tlearn: 0.1570230\ttotal: 56.8s\tremaining: 1m 17s\n",
            "423:\tlearn: 0.1570122\ttotal: 56.9s\tremaining: 1m 17s\n",
            "424:\tlearn: 0.1569991\ttotal: 57.1s\tremaining: 1m 17s\n",
            "425:\tlearn: 0.1569852\ttotal: 57.2s\tremaining: 1m 17s\n",
            "426:\tlearn: 0.1569492\ttotal: 57.3s\tremaining: 1m 16s\n",
            "427:\tlearn: 0.1568902\ttotal: 57.5s\tremaining: 1m 16s\n",
            "428:\tlearn: 0.1568765\ttotal: 57.6s\tremaining: 1m 16s\n",
            "429:\tlearn: 0.1568648\ttotal: 57.7s\tremaining: 1m 16s\n",
            "430:\tlearn: 0.1568564\ttotal: 57.9s\tremaining: 1m 16s\n",
            "431:\tlearn: 0.1568429\ttotal: 58s\tremaining: 1m 16s\n",
            "432:\tlearn: 0.1568325\ttotal: 58.2s\tremaining: 1m 16s\n",
            "433:\tlearn: 0.1568229\ttotal: 58.3s\tremaining: 1m 16s\n",
            "434:\tlearn: 0.1568094\ttotal: 58.4s\tremaining: 1m 15s\n",
            "435:\tlearn: 0.1567990\ttotal: 58.6s\tremaining: 1m 15s\n",
            "436:\tlearn: 0.1567849\ttotal: 58.7s\tremaining: 1m 15s\n",
            "437:\tlearn: 0.1567712\ttotal: 58.8s\tremaining: 1m 15s\n",
            "438:\tlearn: 0.1567635\ttotal: 59s\tremaining: 1m 15s\n",
            "439:\tlearn: 0.1567514\ttotal: 59.1s\tremaining: 1m 15s\n",
            "440:\tlearn: 0.1567387\ttotal: 59.2s\tremaining: 1m 15s\n",
            "441:\tlearn: 0.1567242\ttotal: 59.4s\tremaining: 1m 14s\n",
            "442:\tlearn: 0.1567129\ttotal: 59.5s\tremaining: 1m 14s\n",
            "443:\tlearn: 0.1567008\ttotal: 59.6s\tremaining: 1m 14s\n",
            "444:\tlearn: 0.1566829\ttotal: 59.8s\tremaining: 1m 14s\n",
            "445:\tlearn: 0.1566695\ttotal: 59.9s\tremaining: 1m 14s\n",
            "446:\tlearn: 0.1566557\ttotal: 1m\tremaining: 1m 14s\n",
            "447:\tlearn: 0.1566396\ttotal: 1m\tremaining: 1m 14s\n",
            "448:\tlearn: 0.1566263\ttotal: 1m\tremaining: 1m 14s\n",
            "449:\tlearn: 0.1566103\ttotal: 1m\tremaining: 1m 13s\n",
            "450:\tlearn: 0.1565969\ttotal: 1m\tremaining: 1m 13s\n",
            "451:\tlearn: 0.1565806\ttotal: 1m\tremaining: 1m 13s\n",
            "452:\tlearn: 0.1565708\ttotal: 1m\tremaining: 1m 13s\n",
            "453:\tlearn: 0.1565583\ttotal: 1m\tremaining: 1m 13s\n",
            "454:\tlearn: 0.1565134\ttotal: 1m 1s\tremaining: 1m 13s\n",
            "455:\tlearn: 0.1565048\ttotal: 1m 1s\tremaining: 1m 13s\n",
            "456:\tlearn: 0.1564916\ttotal: 1m 1s\tremaining: 1m 12s\n",
            "457:\tlearn: 0.1564550\ttotal: 1m 1s\tremaining: 1m 12s\n",
            "458:\tlearn: 0.1564416\ttotal: 1m 1s\tremaining: 1m 12s\n",
            "459:\tlearn: 0.1564241\ttotal: 1m 1s\tremaining: 1m 12s\n",
            "460:\tlearn: 0.1563922\ttotal: 1m 1s\tremaining: 1m 12s\n",
            "461:\tlearn: 0.1563790\ttotal: 1m 2s\tremaining: 1m 12s\n",
            "462:\tlearn: 0.1562973\ttotal: 1m 2s\tremaining: 1m 12s\n",
            "463:\tlearn: 0.1562754\ttotal: 1m 2s\tremaining: 1m 11s\n",
            "464:\tlearn: 0.1562595\ttotal: 1m 2s\tremaining: 1m 11s\n",
            "465:\tlearn: 0.1562464\ttotal: 1m 2s\tremaining: 1m 11s\n",
            "466:\tlearn: 0.1562331\ttotal: 1m 2s\tremaining: 1m 11s\n",
            "467:\tlearn: 0.1562189\ttotal: 1m 2s\tremaining: 1m 11s\n",
            "468:\tlearn: 0.1562014\ttotal: 1m 3s\tremaining: 1m 11s\n",
            "469:\tlearn: 0.1561888\ttotal: 1m 3s\tremaining: 1m 11s\n",
            "470:\tlearn: 0.1561745\ttotal: 1m 3s\tremaining: 1m 11s\n",
            "471:\tlearn: 0.1561294\ttotal: 1m 3s\tremaining: 1m 10s\n",
            "472:\tlearn: 0.1561153\ttotal: 1m 3s\tremaining: 1m 10s\n",
            "473:\tlearn: 0.1561026\ttotal: 1m 3s\tremaining: 1m 10s\n",
            "474:\tlearn: 0.1560818\ttotal: 1m 3s\tremaining: 1m 10s\n",
            "475:\tlearn: 0.1560629\ttotal: 1m 3s\tremaining: 1m 10s\n",
            "476:\tlearn: 0.1560492\ttotal: 1m 4s\tremaining: 1m 10s\n",
            "477:\tlearn: 0.1560298\ttotal: 1m 4s\tremaining: 1m 10s\n",
            "478:\tlearn: 0.1560095\ttotal: 1m 4s\tremaining: 1m 10s\n",
            "479:\tlearn: 0.1559945\ttotal: 1m 4s\tremaining: 1m 9s\n",
            "480:\tlearn: 0.1559732\ttotal: 1m 4s\tremaining: 1m 9s\n",
            "481:\tlearn: 0.1559530\ttotal: 1m 4s\tremaining: 1m 9s\n",
            "482:\tlearn: 0.1559323\ttotal: 1m 4s\tremaining: 1m 9s\n",
            "483:\tlearn: 0.1558760\ttotal: 1m 5s\tremaining: 1m 9s\n",
            "484:\tlearn: 0.1558660\ttotal: 1m 5s\tremaining: 1m 9s\n",
            "485:\tlearn: 0.1558535\ttotal: 1m 5s\tremaining: 1m 9s\n",
            "486:\tlearn: 0.1558072\ttotal: 1m 5s\tremaining: 1m 8s\n",
            "487:\tlearn: 0.1557986\ttotal: 1m 5s\tremaining: 1m 8s\n",
            "488:\tlearn: 0.1557847\ttotal: 1m 5s\tremaining: 1m 8s\n",
            "489:\tlearn: 0.1557666\ttotal: 1m 5s\tremaining: 1m 8s\n",
            "490:\tlearn: 0.1557561\ttotal: 1m 5s\tremaining: 1m 8s\n",
            "491:\tlearn: 0.1557356\ttotal: 1m 6s\tremaining: 1m 8s\n",
            "492:\tlearn: 0.1557078\ttotal: 1m 6s\tremaining: 1m 8s\n",
            "493:\tlearn: 0.1557002\ttotal: 1m 6s\tremaining: 1m 7s\n",
            "494:\tlearn: 0.1556746\ttotal: 1m 6s\tremaining: 1m 7s\n",
            "495:\tlearn: 0.1556647\ttotal: 1m 6s\tremaining: 1m 7s\n",
            "496:\tlearn: 0.1556549\ttotal: 1m 6s\tremaining: 1m 7s\n",
            "497:\tlearn: 0.1556462\ttotal: 1m 6s\tremaining: 1m 7s\n",
            "498:\tlearn: 0.1556286\ttotal: 1m 7s\tremaining: 1m 7s\n",
            "499:\tlearn: 0.1556141\ttotal: 1m 7s\tremaining: 1m 7s\n",
            "500:\tlearn: 0.1556005\ttotal: 1m 7s\tremaining: 1m 7s\n",
            "501:\tlearn: 0.1555856\ttotal: 1m 7s\tremaining: 1m 6s\n",
            "502:\tlearn: 0.1555302\ttotal: 1m 7s\tremaining: 1m 6s\n",
            "503:\tlearn: 0.1555223\ttotal: 1m 7s\tremaining: 1m 6s\n",
            "504:\tlearn: 0.1555065\ttotal: 1m 7s\tremaining: 1m 6s\n",
            "505:\tlearn: 0.1554931\ttotal: 1m 7s\tremaining: 1m 6s\n",
            "506:\tlearn: 0.1554527\ttotal: 1m 8s\tremaining: 1m 6s\n",
            "507:\tlearn: 0.1554379\ttotal: 1m 8s\tremaining: 1m 6s\n",
            "508:\tlearn: 0.1554258\ttotal: 1m 8s\tremaining: 1m 5s\n",
            "509:\tlearn: 0.1554074\ttotal: 1m 8s\tremaining: 1m 5s\n",
            "510:\tlearn: 0.1553775\ttotal: 1m 8s\tremaining: 1m 5s\n",
            "511:\tlearn: 0.1553481\ttotal: 1m 8s\tremaining: 1m 5s\n",
            "512:\tlearn: 0.1553387\ttotal: 1m 8s\tremaining: 1m 5s\n",
            "513:\tlearn: 0.1553033\ttotal: 1m 9s\tremaining: 1m 5s\n",
            "514:\tlearn: 0.1552897\ttotal: 1m 9s\tremaining: 1m 5s\n",
            "515:\tlearn: 0.1552767\ttotal: 1m 9s\tremaining: 1m 4s\n",
            "516:\tlearn: 0.1552623\ttotal: 1m 9s\tremaining: 1m 4s\n",
            "517:\tlearn: 0.1551842\ttotal: 1m 9s\tremaining: 1m 4s\n",
            "518:\tlearn: 0.1551664\ttotal: 1m 9s\tremaining: 1m 4s\n",
            "519:\tlearn: 0.1551564\ttotal: 1m 9s\tremaining: 1m 4s\n",
            "520:\tlearn: 0.1551469\ttotal: 1m 9s\tremaining: 1m 4s\n",
            "521:\tlearn: 0.1551363\ttotal: 1m 10s\tremaining: 1m 4s\n",
            "522:\tlearn: 0.1551191\ttotal: 1m 10s\tremaining: 1m 4s\n",
            "523:\tlearn: 0.1550825\ttotal: 1m 10s\tremaining: 1m 3s\n",
            "524:\tlearn: 0.1550625\ttotal: 1m 10s\tremaining: 1m 3s\n",
            "525:\tlearn: 0.1550307\ttotal: 1m 10s\tremaining: 1m 3s\n",
            "526:\tlearn: 0.1550208\ttotal: 1m 10s\tremaining: 1m 3s\n",
            "527:\tlearn: 0.1550120\ttotal: 1m 10s\tremaining: 1m 3s\n",
            "528:\tlearn: 0.1549963\ttotal: 1m 11s\tremaining: 1m 3s\n",
            "529:\tlearn: 0.1549791\ttotal: 1m 11s\tremaining: 1m 3s\n",
            "530:\tlearn: 0.1549690\ttotal: 1m 11s\tremaining: 1m 2s\n",
            "531:\tlearn: 0.1549553\ttotal: 1m 11s\tremaining: 1m 2s\n",
            "532:\tlearn: 0.1549460\ttotal: 1m 11s\tremaining: 1m 2s\n",
            "533:\tlearn: 0.1549330\ttotal: 1m 11s\tremaining: 1m 2s\n",
            "534:\tlearn: 0.1549150\ttotal: 1m 11s\tremaining: 1m 2s\n",
            "535:\tlearn: 0.1548820\ttotal: 1m 11s\tremaining: 1m 2s\n",
            "536:\tlearn: 0.1548658\ttotal: 1m 12s\tremaining: 1m 2s\n",
            "537:\tlearn: 0.1548494\ttotal: 1m 12s\tremaining: 1m 2s\n",
            "538:\tlearn: 0.1548394\ttotal: 1m 12s\tremaining: 1m 1s\n",
            "539:\tlearn: 0.1548303\ttotal: 1m 12s\tremaining: 1m 1s\n",
            "540:\tlearn: 0.1548151\ttotal: 1m 12s\tremaining: 1m 1s\n",
            "541:\tlearn: 0.1548034\ttotal: 1m 12s\tremaining: 1m 1s\n",
            "542:\tlearn: 0.1547949\ttotal: 1m 12s\tremaining: 1m 1s\n",
            "543:\tlearn: 0.1547884\ttotal: 1m 13s\tremaining: 1m 1s\n",
            "544:\tlearn: 0.1547735\ttotal: 1m 13s\tremaining: 1m 1s\n",
            "545:\tlearn: 0.1547621\ttotal: 1m 13s\tremaining: 1m\n",
            "546:\tlearn: 0.1547494\ttotal: 1m 13s\tremaining: 1m\n",
            "547:\tlearn: 0.1547364\ttotal: 1m 13s\tremaining: 1m\n",
            "548:\tlearn: 0.1547196\ttotal: 1m 13s\tremaining: 1m\n",
            "549:\tlearn: 0.1547107\ttotal: 1m 13s\tremaining: 1m\n",
            "550:\tlearn: 0.1546938\ttotal: 1m 13s\tremaining: 1m\n",
            "551:\tlearn: 0.1546788\ttotal: 1m 14s\tremaining: 1m\n",
            "552:\tlearn: 0.1546666\ttotal: 1m 14s\tremaining: 1m\n",
            "553:\tlearn: 0.1546440\ttotal: 1m 14s\tremaining: 59.9s\n",
            "554:\tlearn: 0.1546332\ttotal: 1m 14s\tremaining: 59.8s\n",
            "555:\tlearn: 0.1546211\ttotal: 1m 14s\tremaining: 59.6s\n",
            "556:\tlearn: 0.1546104\ttotal: 1m 14s\tremaining: 59.5s\n",
            "557:\tlearn: 0.1545986\ttotal: 1m 14s\tremaining: 59.4s\n",
            "558:\tlearn: 0.1545860\ttotal: 1m 15s\tremaining: 59.2s\n",
            "559:\tlearn: 0.1545703\ttotal: 1m 15s\tremaining: 59.1s\n",
            "560:\tlearn: 0.1545569\ttotal: 1m 15s\tremaining: 59s\n",
            "561:\tlearn: 0.1545405\ttotal: 1m 15s\tremaining: 58.8s\n",
            "562:\tlearn: 0.1545285\ttotal: 1m 15s\tremaining: 58.7s\n",
            "563:\tlearn: 0.1545202\ttotal: 1m 15s\tremaining: 58.5s\n",
            "564:\tlearn: 0.1545025\ttotal: 1m 15s\tremaining: 58.4s\n",
            "565:\tlearn: 0.1544723\ttotal: 1m 15s\tremaining: 58.3s\n",
            "566:\tlearn: 0.1544412\ttotal: 1m 16s\tremaining: 58.1s\n",
            "567:\tlearn: 0.1544249\ttotal: 1m 16s\tremaining: 58s\n",
            "568:\tlearn: 0.1544174\ttotal: 1m 16s\tremaining: 57.9s\n",
            "569:\tlearn: 0.1544020\ttotal: 1m 16s\tremaining: 57.7s\n",
            "570:\tlearn: 0.1543860\ttotal: 1m 16s\tremaining: 57.6s\n",
            "571:\tlearn: 0.1543775\ttotal: 1m 16s\tremaining: 57.5s\n",
            "572:\tlearn: 0.1543672\ttotal: 1m 16s\tremaining: 57.3s\n",
            "573:\tlearn: 0.1543540\ttotal: 1m 17s\tremaining: 57.2s\n",
            "574:\tlearn: 0.1543410\ttotal: 1m 17s\tremaining: 57s\n",
            "575:\tlearn: 0.1543304\ttotal: 1m 17s\tremaining: 56.9s\n",
            "576:\tlearn: 0.1543158\ttotal: 1m 17s\tremaining: 56.8s\n",
            "577:\tlearn: 0.1543085\ttotal: 1m 17s\tremaining: 56.6s\n",
            "578:\tlearn: 0.1542845\ttotal: 1m 17s\tremaining: 56.5s\n",
            "579:\tlearn: 0.1542499\ttotal: 1m 17s\tremaining: 56.4s\n",
            "580:\tlearn: 0.1542388\ttotal: 1m 17s\tremaining: 56.2s\n",
            "581:\tlearn: 0.1542271\ttotal: 1m 18s\tremaining: 56.1s\n",
            "582:\tlearn: 0.1542181\ttotal: 1m 18s\tremaining: 56s\n",
            "583:\tlearn: 0.1542031\ttotal: 1m 18s\tremaining: 55.8s\n",
            "584:\tlearn: 0.1541643\ttotal: 1m 18s\tremaining: 55.7s\n",
            "585:\tlearn: 0.1541514\ttotal: 1m 18s\tremaining: 55.6s\n",
            "586:\tlearn: 0.1541451\ttotal: 1m 18s\tremaining: 55.4s\n",
            "587:\tlearn: 0.1541309\ttotal: 1m 18s\tremaining: 55.3s\n",
            "588:\tlearn: 0.1541161\ttotal: 1m 19s\tremaining: 55.2s\n",
            "589:\tlearn: 0.1540815\ttotal: 1m 19s\tremaining: 55s\n",
            "590:\tlearn: 0.1540674\ttotal: 1m 19s\tremaining: 54.9s\n",
            "591:\tlearn: 0.1540584\ttotal: 1m 19s\tremaining: 54.8s\n",
            "592:\tlearn: 0.1540442\ttotal: 1m 19s\tremaining: 54.6s\n",
            "593:\tlearn: 0.1540328\ttotal: 1m 19s\tremaining: 54.5s\n",
            "594:\tlearn: 0.1540181\ttotal: 1m 19s\tremaining: 54.4s\n",
            "595:\tlearn: 0.1540075\ttotal: 1m 19s\tremaining: 54.2s\n",
            "596:\tlearn: 0.1539987\ttotal: 1m 20s\tremaining: 54.1s\n",
            "597:\tlearn: 0.1539901\ttotal: 1m 20s\tremaining: 53.9s\n",
            "598:\tlearn: 0.1539805\ttotal: 1m 20s\tremaining: 53.8s\n",
            "599:\tlearn: 0.1539709\ttotal: 1m 20s\tremaining: 53.7s\n",
            "600:\tlearn: 0.1539599\ttotal: 1m 20s\tremaining: 53.5s\n",
            "601:\tlearn: 0.1539475\ttotal: 1m 20s\tremaining: 53.4s\n",
            "602:\tlearn: 0.1539338\ttotal: 1m 20s\tremaining: 53.3s\n",
            "603:\tlearn: 0.1539261\ttotal: 1m 21s\tremaining: 53.1s\n",
            "604:\tlearn: 0.1539035\ttotal: 1m 21s\tremaining: 53s\n",
            "605:\tlearn: 0.1538903\ttotal: 1m 21s\tremaining: 52.9s\n",
            "606:\tlearn: 0.1538798\ttotal: 1m 21s\tremaining: 52.7s\n",
            "607:\tlearn: 0.1538643\ttotal: 1m 21s\tremaining: 52.6s\n",
            "608:\tlearn: 0.1538553\ttotal: 1m 21s\tremaining: 52.5s\n",
            "609:\tlearn: 0.1538484\ttotal: 1m 21s\tremaining: 52.3s\n",
            "610:\tlearn: 0.1538353\ttotal: 1m 21s\tremaining: 52.2s\n",
            "611:\tlearn: 0.1538245\ttotal: 1m 22s\tremaining: 52.1s\n",
            "612:\tlearn: 0.1537873\ttotal: 1m 22s\tremaining: 51.9s\n",
            "613:\tlearn: 0.1537662\ttotal: 1m 22s\tremaining: 51.8s\n",
            "614:\tlearn: 0.1537365\ttotal: 1m 22s\tremaining: 51.7s\n",
            "615:\tlearn: 0.1536993\ttotal: 1m 22s\tremaining: 51.5s\n",
            "616:\tlearn: 0.1536835\ttotal: 1m 22s\tremaining: 51.4s\n",
            "617:\tlearn: 0.1536701\ttotal: 1m 22s\tremaining: 51.3s\n",
            "618:\tlearn: 0.1536231\ttotal: 1m 23s\tremaining: 51.1s\n",
            "619:\tlearn: 0.1535714\ttotal: 1m 23s\tremaining: 51s\n",
            "620:\tlearn: 0.1535625\ttotal: 1m 23s\tremaining: 50.9s\n",
            "621:\tlearn: 0.1535503\ttotal: 1m 23s\tremaining: 50.7s\n",
            "622:\tlearn: 0.1535354\ttotal: 1m 23s\tremaining: 50.6s\n",
            "623:\tlearn: 0.1535101\ttotal: 1m 23s\tremaining: 50.5s\n",
            "624:\tlearn: 0.1534448\ttotal: 1m 23s\tremaining: 50.3s\n",
            "625:\tlearn: 0.1534328\ttotal: 1m 24s\tremaining: 50.2s\n",
            "626:\tlearn: 0.1534052\ttotal: 1m 24s\tremaining: 50.1s\n",
            "627:\tlearn: 0.1533690\ttotal: 1m 24s\tremaining: 49.9s\n",
            "628:\tlearn: 0.1533568\ttotal: 1m 24s\tremaining: 49.8s\n",
            "629:\tlearn: 0.1533427\ttotal: 1m 24s\tremaining: 49.7s\n",
            "630:\tlearn: 0.1533299\ttotal: 1m 24s\tremaining: 49.5s\n",
            "631:\tlearn: 0.1533192\ttotal: 1m 24s\tremaining: 49.4s\n",
            "632:\tlearn: 0.1533113\ttotal: 1m 24s\tremaining: 49.3s\n",
            "633:\tlearn: 0.1532991\ttotal: 1m 25s\tremaining: 49.1s\n",
            "634:\tlearn: 0.1532919\ttotal: 1m 25s\tremaining: 49s\n",
            "635:\tlearn: 0.1532791\ttotal: 1m 25s\tremaining: 48.9s\n",
            "636:\tlearn: 0.1532591\ttotal: 1m 25s\tremaining: 48.7s\n",
            "637:\tlearn: 0.1532504\ttotal: 1m 25s\tremaining: 48.6s\n",
            "638:\tlearn: 0.1532413\ttotal: 1m 25s\tremaining: 48.5s\n",
            "639:\tlearn: 0.1532319\ttotal: 1m 25s\tremaining: 48.3s\n",
            "640:\tlearn: 0.1532232\ttotal: 1m 26s\tremaining: 48.2s\n",
            "641:\tlearn: 0.1532172\ttotal: 1m 26s\tremaining: 48.1s\n",
            "642:\tlearn: 0.1532094\ttotal: 1m 26s\tremaining: 47.9s\n",
            "643:\tlearn: 0.1532017\ttotal: 1m 26s\tremaining: 47.8s\n",
            "644:\tlearn: 0.1531178\ttotal: 1m 26s\tremaining: 47.7s\n",
            "645:\tlearn: 0.1530945\ttotal: 1m 26s\tremaining: 47.5s\n",
            "646:\tlearn: 0.1530725\ttotal: 1m 26s\tremaining: 47.4s\n",
            "647:\tlearn: 0.1530648\ttotal: 1m 26s\tremaining: 47.3s\n",
            "648:\tlearn: 0.1530533\ttotal: 1m 27s\tremaining: 47.1s\n",
            "649:\tlearn: 0.1530400\ttotal: 1m 27s\tremaining: 47s\n",
            "650:\tlearn: 0.1530267\ttotal: 1m 27s\tremaining: 46.9s\n",
            "651:\tlearn: 0.1530171\ttotal: 1m 27s\tremaining: 46.7s\n",
            "652:\tlearn: 0.1530058\ttotal: 1m 27s\tremaining: 46.6s\n",
            "653:\tlearn: 0.1529858\ttotal: 1m 27s\tremaining: 46.5s\n",
            "654:\tlearn: 0.1529698\ttotal: 1m 27s\tremaining: 46.3s\n",
            "655:\tlearn: 0.1529585\ttotal: 1m 28s\tremaining: 46.2s\n",
            "656:\tlearn: 0.1529466\ttotal: 1m 28s\tremaining: 46s\n",
            "657:\tlearn: 0.1529384\ttotal: 1m 28s\tremaining: 45.9s\n",
            "658:\tlearn: 0.1529288\ttotal: 1m 28s\tremaining: 45.8s\n",
            "659:\tlearn: 0.1529071\ttotal: 1m 28s\tremaining: 45.6s\n",
            "660:\tlearn: 0.1528992\ttotal: 1m 28s\tremaining: 45.5s\n",
            "661:\tlearn: 0.1528900\ttotal: 1m 28s\tremaining: 45.4s\n",
            "662:\tlearn: 0.1528816\ttotal: 1m 29s\tremaining: 45.2s\n",
            "663:\tlearn: 0.1528323\ttotal: 1m 29s\tremaining: 45.1s\n",
            "664:\tlearn: 0.1528220\ttotal: 1m 29s\tremaining: 45s\n",
            "665:\tlearn: 0.1528106\ttotal: 1m 29s\tremaining: 44.8s\n",
            "666:\tlearn: 0.1527946\ttotal: 1m 29s\tremaining: 44.7s\n",
            "667:\tlearn: 0.1527792\ttotal: 1m 29s\tremaining: 44.6s\n",
            "668:\tlearn: 0.1527676\ttotal: 1m 29s\tremaining: 44.4s\n",
            "669:\tlearn: 0.1527581\ttotal: 1m 29s\tremaining: 44.3s\n",
            "670:\tlearn: 0.1527378\ttotal: 1m 30s\tremaining: 44.2s\n",
            "671:\tlearn: 0.1527212\ttotal: 1m 30s\tremaining: 44s\n",
            "672:\tlearn: 0.1527115\ttotal: 1m 30s\tremaining: 43.9s\n",
            "673:\tlearn: 0.1527012\ttotal: 1m 30s\tremaining: 43.8s\n",
            "674:\tlearn: 0.1526898\ttotal: 1m 30s\tremaining: 43.6s\n",
            "675:\tlearn: 0.1526771\ttotal: 1m 30s\tremaining: 43.5s\n",
            "676:\tlearn: 0.1526659\ttotal: 1m 30s\tremaining: 43.4s\n",
            "677:\tlearn: 0.1526549\ttotal: 1m 31s\tremaining: 43.2s\n",
            "678:\tlearn: 0.1526471\ttotal: 1m 31s\tremaining: 43.1s\n",
            "679:\tlearn: 0.1526340\ttotal: 1m 31s\tremaining: 43s\n",
            "680:\tlearn: 0.1526211\ttotal: 1m 31s\tremaining: 42.8s\n",
            "681:\tlearn: 0.1526105\ttotal: 1m 31s\tremaining: 42.7s\n",
            "682:\tlearn: 0.1525952\ttotal: 1m 31s\tremaining: 42.6s\n",
            "683:\tlearn: 0.1525867\ttotal: 1m 31s\tremaining: 42.4s\n",
            "684:\tlearn: 0.1525649\ttotal: 1m 31s\tremaining: 42.3s\n",
            "685:\tlearn: 0.1525528\ttotal: 1m 32s\tremaining: 42.2s\n",
            "686:\tlearn: 0.1525463\ttotal: 1m 32s\tremaining: 42s\n",
            "687:\tlearn: 0.1525363\ttotal: 1m 32s\tremaining: 41.9s\n",
            "688:\tlearn: 0.1525262\ttotal: 1m 32s\tremaining: 41.8s\n",
            "689:\tlearn: 0.1525116\ttotal: 1m 32s\tremaining: 41.6s\n",
            "690:\tlearn: 0.1525020\ttotal: 1m 32s\tremaining: 41.5s\n",
            "691:\tlearn: 0.1524919\ttotal: 1m 32s\tremaining: 41.4s\n",
            "692:\tlearn: 0.1524829\ttotal: 1m 33s\tremaining: 41.2s\n",
            "693:\tlearn: 0.1524526\ttotal: 1m 33s\tremaining: 41.1s\n",
            "694:\tlearn: 0.1524405\ttotal: 1m 33s\tremaining: 40.9s\n",
            "695:\tlearn: 0.1524123\ttotal: 1m 33s\tremaining: 40.8s\n",
            "696:\tlearn: 0.1524009\ttotal: 1m 33s\tremaining: 40.7s\n",
            "697:\tlearn: 0.1523883\ttotal: 1m 33s\tremaining: 40.5s\n",
            "698:\tlearn: 0.1523812\ttotal: 1m 33s\tremaining: 40.4s\n",
            "699:\tlearn: 0.1523645\ttotal: 1m 33s\tremaining: 40.3s\n",
            "700:\tlearn: 0.1523332\ttotal: 1m 34s\tremaining: 40.1s\n",
            "701:\tlearn: 0.1523175\ttotal: 1m 34s\tremaining: 40s\n",
            "702:\tlearn: 0.1523031\ttotal: 1m 34s\tremaining: 39.9s\n",
            "703:\tlearn: 0.1522914\ttotal: 1m 34s\tremaining: 39.7s\n",
            "704:\tlearn: 0.1522859\ttotal: 1m 34s\tremaining: 39.6s\n",
            "705:\tlearn: 0.1522751\ttotal: 1m 34s\tremaining: 39.5s\n",
            "706:\tlearn: 0.1522601\ttotal: 1m 34s\tremaining: 39.3s\n",
            "707:\tlearn: 0.1522519\ttotal: 1m 35s\tremaining: 39.2s\n",
            "708:\tlearn: 0.1522417\ttotal: 1m 35s\tremaining: 39.1s\n",
            "709:\tlearn: 0.1522335\ttotal: 1m 35s\tremaining: 38.9s\n",
            "710:\tlearn: 0.1522232\ttotal: 1m 35s\tremaining: 38.8s\n",
            "711:\tlearn: 0.1521773\ttotal: 1m 35s\tremaining: 38.7s\n",
            "712:\tlearn: 0.1521616\ttotal: 1m 35s\tremaining: 38.5s\n",
            "713:\tlearn: 0.1521508\ttotal: 1m 35s\tremaining: 38.4s\n",
            "714:\tlearn: 0.1521423\ttotal: 1m 35s\tremaining: 38.3s\n",
            "715:\tlearn: 0.1521362\ttotal: 1m 36s\tremaining: 38.1s\n",
            "716:\tlearn: 0.1521271\ttotal: 1m 36s\tremaining: 38s\n",
            "717:\tlearn: 0.1521126\ttotal: 1m 36s\tremaining: 37.9s\n",
            "718:\tlearn: 0.1521002\ttotal: 1m 36s\tremaining: 37.7s\n",
            "719:\tlearn: 0.1520885\ttotal: 1m 36s\tremaining: 37.6s\n",
            "720:\tlearn: 0.1520736\ttotal: 1m 36s\tremaining: 37.5s\n",
            "721:\tlearn: 0.1520612\ttotal: 1m 36s\tremaining: 37.3s\n",
            "722:\tlearn: 0.1520537\ttotal: 1m 37s\tremaining: 37.2s\n",
            "723:\tlearn: 0.1520384\ttotal: 1m 37s\tremaining: 37.1s\n",
            "724:\tlearn: 0.1520263\ttotal: 1m 37s\tremaining: 36.9s\n",
            "725:\tlearn: 0.1520049\ttotal: 1m 37s\tremaining: 36.8s\n",
            "726:\tlearn: 0.1519998\ttotal: 1m 37s\tremaining: 36.6s\n",
            "727:\tlearn: 0.1519869\ttotal: 1m 37s\tremaining: 36.5s\n",
            "728:\tlearn: 0.1519729\ttotal: 1m 37s\tremaining: 36.4s\n",
            "729:\tlearn: 0.1519628\ttotal: 1m 37s\tremaining: 36.2s\n",
            "730:\tlearn: 0.1519548\ttotal: 1m 38s\tremaining: 36.1s\n",
            "731:\tlearn: 0.1519396\ttotal: 1m 38s\tremaining: 36s\n",
            "732:\tlearn: 0.1519303\ttotal: 1m 38s\tremaining: 35.8s\n",
            "733:\tlearn: 0.1519177\ttotal: 1m 38s\tremaining: 35.7s\n",
            "734:\tlearn: 0.1519099\ttotal: 1m 38s\tremaining: 35.6s\n",
            "735:\tlearn: 0.1518977\ttotal: 1m 38s\tremaining: 35.4s\n",
            "736:\tlearn: 0.1518902\ttotal: 1m 38s\tremaining: 35.3s\n",
            "737:\tlearn: 0.1518828\ttotal: 1m 39s\tremaining: 35.2s\n",
            "738:\tlearn: 0.1518678\ttotal: 1m 39s\tremaining: 35s\n",
            "739:\tlearn: 0.1518597\ttotal: 1m 39s\tremaining: 34.9s\n",
            "740:\tlearn: 0.1518532\ttotal: 1m 39s\tremaining: 34.8s\n",
            "741:\tlearn: 0.1518460\ttotal: 1m 39s\tremaining: 34.6s\n",
            "742:\tlearn: 0.1518290\ttotal: 1m 39s\tremaining: 34.5s\n",
            "743:\tlearn: 0.1518164\ttotal: 1m 39s\tremaining: 34.4s\n",
            "744:\tlearn: 0.1518070\ttotal: 1m 39s\tremaining: 34.2s\n",
            "745:\tlearn: 0.1517940\ttotal: 1m 40s\tremaining: 34.1s\n",
            "746:\tlearn: 0.1517746\ttotal: 1m 40s\tremaining: 33.9s\n",
            "747:\tlearn: 0.1517667\ttotal: 1m 40s\tremaining: 33.8s\n",
            "748:\tlearn: 0.1517583\ttotal: 1m 40s\tremaining: 33.7s\n",
            "749:\tlearn: 0.1517511\ttotal: 1m 40s\tremaining: 33.5s\n",
            "750:\tlearn: 0.1517382\ttotal: 1m 40s\tremaining: 33.4s\n",
            "751:\tlearn: 0.1517043\ttotal: 1m 40s\tremaining: 33.3s\n",
            "752:\tlearn: 0.1516917\ttotal: 1m 41s\tremaining: 33.1s\n",
            "753:\tlearn: 0.1516843\ttotal: 1m 41s\tremaining: 33s\n",
            "754:\tlearn: 0.1516689\ttotal: 1m 41s\tremaining: 32.9s\n",
            "755:\tlearn: 0.1516594\ttotal: 1m 41s\tremaining: 32.7s\n",
            "756:\tlearn: 0.1516429\ttotal: 1m 41s\tremaining: 32.6s\n",
            "757:\tlearn: 0.1516330\ttotal: 1m 41s\tremaining: 32.5s\n",
            "758:\tlearn: 0.1516263\ttotal: 1m 41s\tremaining: 32.3s\n",
            "759:\tlearn: 0.1516194\ttotal: 1m 41s\tremaining: 32.2s\n",
            "760:\tlearn: 0.1515774\ttotal: 1m 42s\tremaining: 32.1s\n",
            "761:\tlearn: 0.1515637\ttotal: 1m 42s\tremaining: 31.9s\n",
            "762:\tlearn: 0.1515525\ttotal: 1m 42s\tremaining: 31.8s\n",
            "763:\tlearn: 0.1515407\ttotal: 1m 42s\tremaining: 31.7s\n",
            "764:\tlearn: 0.1515312\ttotal: 1m 42s\tremaining: 31.5s\n",
            "765:\tlearn: 0.1515187\ttotal: 1m 42s\tremaining: 31.4s\n",
            "766:\tlearn: 0.1515047\ttotal: 1m 42s\tremaining: 31.3s\n",
            "767:\tlearn: 0.1514453\ttotal: 1m 43s\tremaining: 31.1s\n",
            "768:\tlearn: 0.1513940\ttotal: 1m 43s\tremaining: 31s\n",
            "769:\tlearn: 0.1513825\ttotal: 1m 43s\tremaining: 30.9s\n",
            "770:\tlearn: 0.1513711\ttotal: 1m 43s\tremaining: 30.7s\n",
            "771:\tlearn: 0.1513649\ttotal: 1m 43s\tremaining: 30.6s\n",
            "772:\tlearn: 0.1513516\ttotal: 1m 43s\tremaining: 30.5s\n",
            "773:\tlearn: 0.1513417\ttotal: 1m 43s\tremaining: 30.3s\n",
            "774:\tlearn: 0.1513334\ttotal: 1m 43s\tremaining: 30.2s\n",
            "775:\tlearn: 0.1513222\ttotal: 1m 44s\tremaining: 30.1s\n",
            "776:\tlearn: 0.1513056\ttotal: 1m 44s\tremaining: 29.9s\n",
            "777:\tlearn: 0.1512971\ttotal: 1m 44s\tremaining: 29.8s\n",
            "778:\tlearn: 0.1512859\ttotal: 1m 44s\tremaining: 29.7s\n",
            "779:\tlearn: 0.1512761\ttotal: 1m 44s\tremaining: 29.5s\n",
            "780:\tlearn: 0.1512574\ttotal: 1m 44s\tremaining: 29.4s\n",
            "781:\tlearn: 0.1512432\ttotal: 1m 44s\tremaining: 29.3s\n",
            "782:\tlearn: 0.1512234\ttotal: 1m 45s\tremaining: 29.1s\n",
            "783:\tlearn: 0.1512136\ttotal: 1m 45s\tremaining: 29s\n",
            "784:\tlearn: 0.1511994\ttotal: 1m 45s\tremaining: 28.8s\n",
            "785:\tlearn: 0.1511892\ttotal: 1m 45s\tremaining: 28.7s\n",
            "786:\tlearn: 0.1511793\ttotal: 1m 45s\tremaining: 28.6s\n",
            "787:\tlearn: 0.1511695\ttotal: 1m 45s\tremaining: 28.4s\n",
            "788:\tlearn: 0.1511587\ttotal: 1m 45s\tremaining: 28.3s\n",
            "789:\tlearn: 0.1511484\ttotal: 1m 46s\tremaining: 28.2s\n",
            "790:\tlearn: 0.1511421\ttotal: 1m 46s\tremaining: 28s\n",
            "791:\tlearn: 0.1511334\ttotal: 1m 46s\tremaining: 27.9s\n",
            "792:\tlearn: 0.1511172\ttotal: 1m 46s\tremaining: 27.8s\n",
            "793:\tlearn: 0.1511083\ttotal: 1m 46s\tremaining: 27.6s\n",
            "794:\tlearn: 0.1510966\ttotal: 1m 46s\tremaining: 27.5s\n",
            "795:\tlearn: 0.1510642\ttotal: 1m 46s\tremaining: 27.4s\n",
            "796:\tlearn: 0.1510552\ttotal: 1m 46s\tremaining: 27.2s\n",
            "797:\tlearn: 0.1510429\ttotal: 1m 47s\tremaining: 27.1s\n",
            "798:\tlearn: 0.1510287\ttotal: 1m 47s\tremaining: 27s\n",
            "799:\tlearn: 0.1510154\ttotal: 1m 47s\tremaining: 26.8s\n",
            "800:\tlearn: 0.1510055\ttotal: 1m 47s\tremaining: 26.7s\n",
            "801:\tlearn: 0.1509942\ttotal: 1m 47s\tremaining: 26.6s\n",
            "802:\tlearn: 0.1509787\ttotal: 1m 47s\tremaining: 26.4s\n",
            "803:\tlearn: 0.1509648\ttotal: 1m 47s\tremaining: 26.3s\n",
            "804:\tlearn: 0.1509574\ttotal: 1m 48s\tremaining: 26.2s\n",
            "805:\tlearn: 0.1509466\ttotal: 1m 48s\tremaining: 26s\n",
            "806:\tlearn: 0.1509399\ttotal: 1m 48s\tremaining: 25.9s\n",
            "807:\tlearn: 0.1509281\ttotal: 1m 48s\tremaining: 25.8s\n",
            "808:\tlearn: 0.1509158\ttotal: 1m 48s\tremaining: 25.6s\n",
            "809:\tlearn: 0.1509086\ttotal: 1m 48s\tremaining: 25.5s\n",
            "810:\tlearn: 0.1508805\ttotal: 1m 48s\tremaining: 25.4s\n",
            "811:\tlearn: 0.1508723\ttotal: 1m 48s\tremaining: 25.2s\n",
            "812:\tlearn: 0.1508605\ttotal: 1m 49s\tremaining: 25.1s\n",
            "813:\tlearn: 0.1508482\ttotal: 1m 49s\tremaining: 25s\n",
            "814:\tlearn: 0.1508345\ttotal: 1m 49s\tremaining: 24.8s\n",
            "815:\tlearn: 0.1508274\ttotal: 1m 49s\tremaining: 24.7s\n",
            "816:\tlearn: 0.1508178\ttotal: 1m 49s\tremaining: 24.6s\n",
            "817:\tlearn: 0.1508012\ttotal: 1m 49s\tremaining: 24.4s\n",
            "818:\tlearn: 0.1507857\ttotal: 1m 49s\tremaining: 24.3s\n",
            "819:\tlearn: 0.1507775\ttotal: 1m 50s\tremaining: 24.2s\n",
            "820:\tlearn: 0.1507615\ttotal: 1m 50s\tremaining: 24s\n",
            "821:\tlearn: 0.1507460\ttotal: 1m 50s\tremaining: 23.9s\n",
            "822:\tlearn: 0.1507382\ttotal: 1m 50s\tremaining: 23.8s\n",
            "823:\tlearn: 0.1507286\ttotal: 1m 50s\tremaining: 23.6s\n",
            "824:\tlearn: 0.1507162\ttotal: 1m 50s\tremaining: 23.5s\n",
            "825:\tlearn: 0.1507049\ttotal: 1m 50s\tremaining: 23.3s\n",
            "826:\tlearn: 0.1507003\ttotal: 1m 50s\tremaining: 23.2s\n",
            "827:\tlearn: 0.1506875\ttotal: 1m 51s\tremaining: 23.1s\n",
            "828:\tlearn: 0.1506811\ttotal: 1m 51s\tremaining: 22.9s\n",
            "829:\tlearn: 0.1506605\ttotal: 1m 51s\tremaining: 22.8s\n",
            "830:\tlearn: 0.1506535\ttotal: 1m 51s\tremaining: 22.7s\n",
            "831:\tlearn: 0.1506439\ttotal: 1m 51s\tremaining: 22.5s\n",
            "832:\tlearn: 0.1506317\ttotal: 1m 51s\tremaining: 22.4s\n",
            "833:\tlearn: 0.1506224\ttotal: 1m 51s\tremaining: 22.3s\n",
            "834:\tlearn: 0.1505737\ttotal: 1m 52s\tremaining: 22.1s\n",
            "835:\tlearn: 0.1505602\ttotal: 1m 52s\tremaining: 22s\n",
            "836:\tlearn: 0.1505504\ttotal: 1m 52s\tremaining: 21.9s\n",
            "837:\tlearn: 0.1505419\ttotal: 1m 52s\tremaining: 21.7s\n",
            "838:\tlearn: 0.1505311\ttotal: 1m 52s\tremaining: 21.6s\n",
            "839:\tlearn: 0.1505220\ttotal: 1m 52s\tremaining: 21.5s\n",
            "840:\tlearn: 0.1505124\ttotal: 1m 52s\tremaining: 21.3s\n",
            "841:\tlearn: 0.1505001\ttotal: 1m 52s\tremaining: 21.2s\n",
            "842:\tlearn: 0.1504678\ttotal: 1m 53s\tremaining: 21.1s\n",
            "843:\tlearn: 0.1504577\ttotal: 1m 53s\tremaining: 20.9s\n",
            "844:\tlearn: 0.1504507\ttotal: 1m 53s\tremaining: 20.8s\n",
            "845:\tlearn: 0.1504454\ttotal: 1m 53s\tremaining: 20.7s\n",
            "846:\tlearn: 0.1504344\ttotal: 1m 53s\tremaining: 20.5s\n",
            "847:\tlearn: 0.1504259\ttotal: 1m 53s\tremaining: 20.4s\n",
            "848:\tlearn: 0.1504137\ttotal: 1m 53s\tremaining: 20.3s\n",
            "849:\tlearn: 0.1504028\ttotal: 1m 54s\tremaining: 20.1s\n",
            "850:\tlearn: 0.1503938\ttotal: 1m 54s\tremaining: 20s\n",
            "851:\tlearn: 0.1503870\ttotal: 1m 54s\tremaining: 19.9s\n",
            "852:\tlearn: 0.1503784\ttotal: 1m 54s\tremaining: 19.7s\n",
            "853:\tlearn: 0.1503685\ttotal: 1m 54s\tremaining: 19.6s\n",
            "854:\tlearn: 0.1503553\ttotal: 1m 54s\tremaining: 19.4s\n",
            "855:\tlearn: 0.1503472\ttotal: 1m 54s\tremaining: 19.3s\n",
            "856:\tlearn: 0.1503385\ttotal: 1m 54s\tremaining: 19.2s\n",
            "857:\tlearn: 0.1503304\ttotal: 1m 55s\tremaining: 19s\n",
            "858:\tlearn: 0.1503219\ttotal: 1m 55s\tremaining: 18.9s\n",
            "859:\tlearn: 0.1503137\ttotal: 1m 55s\tremaining: 18.8s\n",
            "860:\tlearn: 0.1503013\ttotal: 1m 55s\tremaining: 18.6s\n",
            "861:\tlearn: 0.1502917\ttotal: 1m 55s\tremaining: 18.5s\n",
            "862:\tlearn: 0.1502751\ttotal: 1m 55s\tremaining: 18.4s\n",
            "863:\tlearn: 0.1502672\ttotal: 1m 55s\tremaining: 18.2s\n",
            "864:\tlearn: 0.1502509\ttotal: 1m 55s\tremaining: 18.1s\n",
            "865:\tlearn: 0.1502420\ttotal: 1m 56s\tremaining: 18s\n",
            "866:\tlearn: 0.1502310\ttotal: 1m 56s\tremaining: 17.8s\n",
            "867:\tlearn: 0.1502250\ttotal: 1m 56s\tremaining: 17.7s\n",
            "868:\tlearn: 0.1502168\ttotal: 1m 56s\tremaining: 17.6s\n",
            "869:\tlearn: 0.1502061\ttotal: 1m 56s\tremaining: 17.4s\n",
            "870:\tlearn: 0.1501965\ttotal: 1m 56s\tremaining: 17.3s\n",
            "871:\tlearn: 0.1501902\ttotal: 1m 56s\tremaining: 17.2s\n",
            "872:\tlearn: 0.1501793\ttotal: 1m 57s\tremaining: 17s\n",
            "873:\tlearn: 0.1501696\ttotal: 1m 57s\tremaining: 16.9s\n",
            "874:\tlearn: 0.1501619\ttotal: 1m 57s\tremaining: 16.8s\n",
            "875:\tlearn: 0.1501458\ttotal: 1m 57s\tremaining: 16.6s\n",
            "876:\tlearn: 0.1501385\ttotal: 1m 57s\tremaining: 16.5s\n",
            "877:\tlearn: 0.1501292\ttotal: 1m 57s\tremaining: 16.4s\n",
            "878:\tlearn: 0.1501177\ttotal: 1m 57s\tremaining: 16.2s\n",
            "879:\tlearn: 0.1501093\ttotal: 1m 58s\tremaining: 16.1s\n",
            "880:\tlearn: 0.1500973\ttotal: 1m 58s\tremaining: 16s\n",
            "881:\tlearn: 0.1500846\ttotal: 1m 58s\tremaining: 15.8s\n",
            "882:\tlearn: 0.1500736\ttotal: 1m 58s\tremaining: 15.7s\n",
            "883:\tlearn: 0.1500612\ttotal: 1m 58s\tremaining: 15.6s\n",
            "884:\tlearn: 0.1500502\ttotal: 1m 58s\tremaining: 15.4s\n",
            "885:\tlearn: 0.1500443\ttotal: 1m 58s\tremaining: 15.3s\n",
            "886:\tlearn: 0.1500339\ttotal: 1m 58s\tremaining: 15.2s\n",
            "887:\tlearn: 0.1500174\ttotal: 1m 59s\tremaining: 15s\n",
            "888:\tlearn: 0.1500048\ttotal: 1m 59s\tremaining: 14.9s\n",
            "889:\tlearn: 0.1499948\ttotal: 1m 59s\tremaining: 14.7s\n",
            "890:\tlearn: 0.1499880\ttotal: 1m 59s\tremaining: 14.6s\n",
            "891:\tlearn: 0.1499786\ttotal: 1m 59s\tremaining: 14.5s\n",
            "892:\tlearn: 0.1499642\ttotal: 1m 59s\tremaining: 14.3s\n",
            "893:\tlearn: 0.1499225\ttotal: 1m 59s\tremaining: 14.2s\n",
            "894:\tlearn: 0.1499091\ttotal: 2m\tremaining: 14.1s\n",
            "895:\tlearn: 0.1499033\ttotal: 2m\tremaining: 13.9s\n",
            "896:\tlearn: 0.1498918\ttotal: 2m\tremaining: 13.8s\n",
            "897:\tlearn: 0.1498838\ttotal: 2m\tremaining: 13.7s\n",
            "898:\tlearn: 0.1498727\ttotal: 2m\tremaining: 13.5s\n",
            "899:\tlearn: 0.1498586\ttotal: 2m\tremaining: 13.4s\n",
            "900:\tlearn: 0.1498472\ttotal: 2m\tremaining: 13.3s\n",
            "901:\tlearn: 0.1498397\ttotal: 2m\tremaining: 13.1s\n",
            "902:\tlearn: 0.1498315\ttotal: 2m 1s\tremaining: 13s\n",
            "903:\tlearn: 0.1498178\ttotal: 2m 1s\tremaining: 12.9s\n",
            "904:\tlearn: 0.1498100\ttotal: 2m 1s\tremaining: 12.7s\n",
            "905:\tlearn: 0.1497939\ttotal: 2m 1s\tremaining: 12.6s\n",
            "906:\tlearn: 0.1497835\ttotal: 2m 1s\tremaining: 12.5s\n",
            "907:\tlearn: 0.1497801\ttotal: 2m 1s\tremaining: 12.3s\n",
            "908:\tlearn: 0.1497717\ttotal: 2m 1s\tremaining: 12.2s\n",
            "909:\tlearn: 0.1497618\ttotal: 2m 2s\tremaining: 12.1s\n",
            "910:\tlearn: 0.1497498\ttotal: 2m 2s\tremaining: 11.9s\n",
            "911:\tlearn: 0.1497357\ttotal: 2m 2s\tremaining: 11.8s\n",
            "912:\tlearn: 0.1497034\ttotal: 2m 2s\tremaining: 11.7s\n",
            "913:\tlearn: 0.1496977\ttotal: 2m 2s\tremaining: 11.5s\n",
            "914:\tlearn: 0.1496859\ttotal: 2m 2s\tremaining: 11.4s\n",
            "915:\tlearn: 0.1496768\ttotal: 2m 2s\tremaining: 11.3s\n",
            "916:\tlearn: 0.1496372\ttotal: 2m 2s\tremaining: 11.1s\n",
            "917:\tlearn: 0.1496253\ttotal: 2m 3s\tremaining: 11s\n",
            "918:\tlearn: 0.1495828\ttotal: 2m 3s\tremaining: 10.9s\n",
            "919:\tlearn: 0.1495772\ttotal: 2m 3s\tremaining: 10.7s\n",
            "920:\tlearn: 0.1495712\ttotal: 2m 3s\tremaining: 10.6s\n",
            "921:\tlearn: 0.1495624\ttotal: 2m 3s\tremaining: 10.5s\n",
            "922:\tlearn: 0.1495463\ttotal: 2m 3s\tremaining: 10.3s\n",
            "923:\tlearn: 0.1495353\ttotal: 2m 3s\tremaining: 10.2s\n",
            "924:\tlearn: 0.1495261\ttotal: 2m 4s\tremaining: 10.1s\n",
            "925:\tlearn: 0.1495135\ttotal: 2m 4s\tremaining: 9.92s\n",
            "926:\tlearn: 0.1494998\ttotal: 2m 4s\tremaining: 9.79s\n",
            "927:\tlearn: 0.1494860\ttotal: 2m 4s\tremaining: 9.66s\n",
            "928:\tlearn: 0.1494616\ttotal: 2m 4s\tremaining: 9.52s\n",
            "929:\tlearn: 0.1494518\ttotal: 2m 4s\tremaining: 9.39s\n",
            "930:\tlearn: 0.1494429\ttotal: 2m 4s\tremaining: 9.25s\n",
            "931:\tlearn: 0.1494349\ttotal: 2m 4s\tremaining: 9.12s\n",
            "932:\tlearn: 0.1494253\ttotal: 2m 5s\tremaining: 8.98s\n",
            "933:\tlearn: 0.1494177\ttotal: 2m 5s\tremaining: 8.85s\n",
            "934:\tlearn: 0.1494107\ttotal: 2m 5s\tremaining: 8.72s\n",
            "935:\tlearn: 0.1494010\ttotal: 2m 5s\tremaining: 8.58s\n",
            "936:\tlearn: 0.1493798\ttotal: 2m 5s\tremaining: 8.45s\n",
            "937:\tlearn: 0.1493677\ttotal: 2m 5s\tremaining: 8.31s\n",
            "938:\tlearn: 0.1493550\ttotal: 2m 5s\tremaining: 8.18s\n",
            "939:\tlearn: 0.1493487\ttotal: 2m 6s\tremaining: 8.05s\n",
            "940:\tlearn: 0.1493360\ttotal: 2m 6s\tremaining: 7.91s\n",
            "941:\tlearn: 0.1493289\ttotal: 2m 6s\tremaining: 7.78s\n",
            "942:\tlearn: 0.1493179\ttotal: 2m 6s\tremaining: 7.64s\n",
            "943:\tlearn: 0.1493031\ttotal: 2m 6s\tremaining: 7.51s\n",
            "944:\tlearn: 0.1492935\ttotal: 2m 6s\tremaining: 7.38s\n",
            "945:\tlearn: 0.1492847\ttotal: 2m 6s\tremaining: 7.24s\n",
            "946:\tlearn: 0.1492700\ttotal: 2m 6s\tremaining: 7.11s\n",
            "947:\tlearn: 0.1492595\ttotal: 2m 7s\tremaining: 6.97s\n",
            "948:\tlearn: 0.1492487\ttotal: 2m 7s\tremaining: 6.84s\n",
            "949:\tlearn: 0.1492371\ttotal: 2m 7s\tremaining: 6.71s\n",
            "950:\tlearn: 0.1492271\ttotal: 2m 7s\tremaining: 6.57s\n",
            "951:\tlearn: 0.1492165\ttotal: 2m 7s\tremaining: 6.44s\n",
            "952:\tlearn: 0.1492093\ttotal: 2m 7s\tremaining: 6.3s\n",
            "953:\tlearn: 0.1491979\ttotal: 2m 7s\tremaining: 6.17s\n",
            "954:\tlearn: 0.1491849\ttotal: 2m 8s\tremaining: 6.03s\n",
            "955:\tlearn: 0.1491727\ttotal: 2m 8s\tremaining: 5.9s\n",
            "956:\tlearn: 0.1491642\ttotal: 2m 8s\tremaining: 5.77s\n",
            "957:\tlearn: 0.1491539\ttotal: 2m 8s\tremaining: 5.63s\n",
            "958:\tlearn: 0.1491447\ttotal: 2m 8s\tremaining: 5.5s\n",
            "959:\tlearn: 0.1491326\ttotal: 2m 8s\tremaining: 5.36s\n",
            "960:\tlearn: 0.1491246\ttotal: 2m 8s\tremaining: 5.23s\n",
            "961:\tlearn: 0.1491160\ttotal: 2m 9s\tremaining: 5.09s\n",
            "962:\tlearn: 0.1491091\ttotal: 2m 9s\tremaining: 4.96s\n",
            "963:\tlearn: 0.1490796\ttotal: 2m 9s\tremaining: 4.83s\n",
            "964:\tlearn: 0.1490690\ttotal: 2m 9s\tremaining: 4.69s\n",
            "965:\tlearn: 0.1490612\ttotal: 2m 9s\tremaining: 4.56s\n",
            "966:\tlearn: 0.1490508\ttotal: 2m 9s\tremaining: 4.42s\n",
            "967:\tlearn: 0.1490206\ttotal: 2m 9s\tremaining: 4.29s\n",
            "968:\tlearn: 0.1490134\ttotal: 2m 9s\tremaining: 4.16s\n",
            "969:\tlearn: 0.1490000\ttotal: 2m 10s\tremaining: 4.02s\n",
            "970:\tlearn: 0.1489904\ttotal: 2m 10s\tremaining: 3.89s\n",
            "971:\tlearn: 0.1489574\ttotal: 2m 10s\tremaining: 3.75s\n",
            "972:\tlearn: 0.1489485\ttotal: 2m 10s\tremaining: 3.62s\n",
            "973:\tlearn: 0.1489290\ttotal: 2m 10s\tremaining: 3.49s\n",
            "974:\tlearn: 0.1489153\ttotal: 2m 10s\tremaining: 3.35s\n",
            "975:\tlearn: 0.1488934\ttotal: 2m 10s\tremaining: 3.22s\n",
            "976:\tlearn: 0.1488726\ttotal: 2m 11s\tremaining: 3.08s\n",
            "977:\tlearn: 0.1488541\ttotal: 2m 11s\tremaining: 2.95s\n",
            "978:\tlearn: 0.1488431\ttotal: 2m 11s\tremaining: 2.82s\n",
            "979:\tlearn: 0.1488368\ttotal: 2m 11s\tremaining: 2.68s\n",
            "980:\tlearn: 0.1488237\ttotal: 2m 11s\tremaining: 2.55s\n",
            "981:\tlearn: 0.1488071\ttotal: 2m 11s\tremaining: 2.41s\n",
            "982:\tlearn: 0.1487971\ttotal: 2m 11s\tremaining: 2.28s\n",
            "983:\tlearn: 0.1487879\ttotal: 2m 11s\tremaining: 2.15s\n",
            "984:\tlearn: 0.1487781\ttotal: 2m 12s\tremaining: 2.01s\n",
            "985:\tlearn: 0.1487699\ttotal: 2m 12s\tremaining: 1.88s\n",
            "986:\tlearn: 0.1487608\ttotal: 2m 12s\tremaining: 1.74s\n",
            "987:\tlearn: 0.1487534\ttotal: 2m 12s\tremaining: 1.61s\n",
            "988:\tlearn: 0.1487455\ttotal: 2m 12s\tremaining: 1.48s\n",
            "989:\tlearn: 0.1487318\ttotal: 2m 12s\tremaining: 1.34s\n",
            "990:\tlearn: 0.1487205\ttotal: 2m 12s\tremaining: 1.21s\n",
            "991:\tlearn: 0.1487070\ttotal: 2m 13s\tremaining: 1.07s\n",
            "992:\tlearn: 0.1486999\ttotal: 2m 13s\tremaining: 939ms\n",
            "993:\tlearn: 0.1486922\ttotal: 2m 13s\tremaining: 805ms\n",
            "994:\tlearn: 0.1486855\ttotal: 2m 13s\tremaining: 671ms\n",
            "995:\tlearn: 0.1486757\ttotal: 2m 13s\tremaining: 536ms\n",
            "996:\tlearn: 0.1486668\ttotal: 2m 13s\tremaining: 402ms\n",
            "997:\tlearn: 0.1486579\ttotal: 2m 13s\tremaining: 268ms\n",
            "998:\tlearn: 0.1486451\ttotal: 2m 13s\tremaining: 134ms\n",
            "999:\tlearn: 0.1486356\ttotal: 2m 14s\tremaining: 0us\n"
          ],
          "name": "stdout"
        }
      ]
    },
    {
      "cell_type": "code",
      "metadata": {
        "id": "DJCHKyI-efBn",
        "colab_type": "code",
        "colab": {}
      },
      "source": [
        " y_pred=model_cb.predict(X_test_res)"
      ],
      "execution_count": 98,
      "outputs": []
    },
    {
      "cell_type": "code",
      "metadata": {
        "id": "_qjcKGcwefMM",
        "colab_type": "code",
        "colab": {
          "base_uri": "https://localhost:8080/",
          "height": 34
        },
        "outputId": "e4a993ee-f2e0-4585-c59c-e5436f74b795"
      },
      "source": [
        " accuracy_score(y_test,y_pred)"
      ],
      "execution_count": 99,
      "outputs": [
        {
          "output_type": "execute_result",
          "data": {
            "text/plain": [
              "0.9274699177504465"
            ]
          },
          "metadata": {
            "tags": []
          },
          "execution_count": 99
        }
      ]
    },
    {
      "cell_type": "code",
      "metadata": {
        "id": "ExdP7iB6i5BH",
        "colab_type": "code",
        "colab": {
          "base_uri": "https://localhost:8080/",
          "height": 51
        },
        "outputId": "2e9d01cd-5153-4a07-ce8e-5c4de4f0ed5f"
      },
      "source": [
        "print(\"Accuarcy on training\", accuracy_score(y_train,model_cb.predict(X_train_res)))\n",
        "print(\"Accuarcy on testing\",accuracy_score(y_test,model_cb.predict(X_test_res)))"
      ],
      "execution_count": 100,
      "outputs": [
        {
          "output_type": "stream",
          "text": [
            "Accuarcy on training 0.9308512855159283\n",
            "Accuarcy on testing 0.9274699177504465\n"
          ],
          "name": "stdout"
        }
      ]
    },
    {
      "cell_type": "code",
      "metadata": {
        "id": "SXtDYgDhefH1",
        "colab_type": "code",
        "colab": {
          "base_uri": "https://localhost:8080/",
          "height": 34
        },
        "outputId": "ad96d9cd-edee-4ec6-c254-c79b2e626af3"
      },
      "source": [
        " precision_score(y_test,y_pred)"
      ],
      "execution_count": 101,
      "outputs": [
        {
          "output_type": "execute_result",
          "data": {
            "text/plain": [
              "0.9922206506364922"
            ]
          },
          "metadata": {
            "tags": []
          },
          "execution_count": 101
        }
      ]
    },
    {
      "cell_type": "code",
      "metadata": {
        "id": "FP4l_oLojFOg",
        "colab_type": "code",
        "colab": {
          "base_uri": "https://localhost:8080/",
          "height": 170
        },
        "outputId": "262667f0-b4a0-4b13-c57c-f5b0b53fac8d"
      },
      "source": [
        "print(classification_report(y_test,y_pred))"
      ],
      "execution_count": 102,
      "outputs": [
        {
          "output_type": "stream",
          "text": [
            "              precision    recall  f1-score   support\n",
            "\n",
            "           0       0.88      0.99      0.93     97690\n",
            "           1       0.99      0.86      0.92     97691\n",
            "\n",
            "    accuracy                           0.93    195381\n",
            "   macro avg       0.93      0.93      0.93    195381\n",
            "weighted avg       0.93      0.93      0.93    195381\n",
            "\n"
          ],
          "name": "stdout"
        }
      ]
    },
    {
      "cell_type": "code",
      "metadata": {
        "id": "_7IsFVGTjFXr",
        "colab_type": "code",
        "colab": {
          "base_uri": "https://localhost:8080/",
          "height": 296
        },
        "outputId": "be82446c-28f3-49b9-a1cc-93438fd62764"
      },
      "source": [
        "print(plot_confusion_matrix(model_cb,X_test_res,y_test,values_format='.1f'))\n",
        "plt.show()"
      ],
      "execution_count": 107,
      "outputs": [
        {
          "output_type": "stream",
          "text": [
            "<sklearn.metrics._plot.confusion_matrix.ConfusionMatrixDisplay object at 0x7fb196073400>\n"
          ],
          "name": "stdout"
        },
        {
          "output_type": "display_data",
          "data": {
            "image/png": "[encoded data removed]",
            "text/plain": [
              "<Figure size 432x288 with 2 Axes>"
            ]
          },
          "metadata": {
            "tags": [],
            "needs_background": "light"
          }
        }
      ]
    },
    {
      "cell_type": "code",
      "metadata": {
        "id": "ohpHAeSFjFhv",
        "colab_type": "code",
        "colab": {
          "base_uri": "https://localhost:8080/",
          "height": 51
        },
        "outputId": "9639d1b9-309e-4098-f429-d3aea6456a5c"
      },
      "source": [
        "cb_probs=model_cb.predict_proba(X_test_res)[:,1]\n",
        "cb_probs"
      ],
      "execution_count": 108,
      "outputs": [
        {
          "output_type": "execute_result",
          "data": {
            "text/plain": [
              "array([0.99964302, 0.09461105, 0.94614687, ..., 1.        , 0.99999996,\n",
              "       1.        ])"
            ]
          },
          "metadata": {
            "tags": []
          },
          "execution_count": 108
        }
      ]
    },
    {
      "cell_type": "code",
      "metadata": {
        "id": "cUVIbGvLjFpF",
        "colab_type": "code",
        "colab": {
          "base_uri": "https://localhost:8080/",
          "height": 34
        },
        "outputId": "7692497c-0bfe-49cd-92b7-4aedd911b1a6"
      },
      "source": [
        "cb_auc=roc_auc_score(y_test,cb_probs)\n",
        "print(\"cb_area\",cb_auc)"
      ],
      "execution_count": 109,
      "outputs": [
        {
          "output_type": "stream",
          "text": [
            "cb_area 0.9794134492025434\n"
          ],
          "name": "stdout"
        }
      ]
    },
    {
      "cell_type": "code",
      "metadata": {
        "id": "b-fg3tNUjFnS",
        "colab_type": "code",
        "colab": {}
      },
      "source": [
        "fpr,tpr,th=roc_curve(y_test,cb_probs)"
      ],
      "execution_count": 110,
      "outputs": []
    },
    {
      "cell_type": "code",
      "metadata": {
        "id": "gSEkrNtkjFe1",
        "colab_type": "code",
        "colab": {
          "base_uri": "https://localhost:8080/",
          "height": 265
        },
        "outputId": "5abe581d-168e-47d9-c12b-389f6ac46b37"
      },
      "source": [
        "plt.plot([0,1],[0,1],linestyle='--',color='red')\n",
        "plt.plot(fpr,tpr,marker='*',label='cb auc {}'.format(cb_auc.round(2)))\n",
        "plt.legend()\n",
        "plt.show()"
      ],
      "execution_count": 113,
      "outputs": [
        {
          "output_type": "display_data",
          "data": {
            "image/png": "[encoded data removed]",
            "text/plain": [
              "<Figure size 432x288 with 1 Axes>"
            ]
          },
          "metadata": {
            "tags": [],
            "needs_background": "light"
          }
        }
      ]
    },
    {
      "cell_type": "code",
      "metadata": {
        "id": "WnbZS-S7jFU-",
        "colab_type": "code",
        "colab": {
          "base_uri": "https://localhost:8080/",
          "height": 265
        },
        "outputId": "040076cd-7fc3-4b87-dfbf-5611789a5975"
      },
      "source": [
        "feat_importances = pd.Series(model_cb.feature_importances_, index=X.columns)\n",
        "feat_importances.nlargest(15).plot(kind='barh')\n",
        "plt.show()"
      ],
      "execution_count": 116,
      "outputs": [
        {
          "output_type": "display_data",
          "data": {
            "image/png": "[encoded data removed]",
            "text/plain": [
              "<Figure size 432x288 with 1 Axes>"
            ]
          },
          "metadata": {
            "tags": [],
            "needs_background": "light"
          }
        }
      ]
    },
    {
      "cell_type": "markdown",
      "metadata": {
        "id": "h0ZHFn_akvRr",
        "colab_type": "text"
      },
      "source": [
        "I have given a try with LGBM also"
      ]
    },
    {
      "cell_type": "code",
      "metadata": {
        "id": "sdH26DuxMGmm",
        "colab_type": "code",
        "colab": {
          "base_uri": "https://localhost:8080/",
          "height": 102
        },
        "outputId": "90e474db-4024-42cf-c348-accc520ea3ff"
      },
      "source": [
        "!pip install lightgbm\n"
      ],
      "execution_count": 117,
      "outputs": [
        {
          "output_type": "stream",
          "text": [
            "Requirement already satisfied: lightgbm in /usr/local/lib/python3.6/dist-packages (2.2.3)\n",
            "Requirement already satisfied: scikit-learn in /usr/local/lib/python3.6/dist-packages (from lightgbm) (0.22.2.post1)\n",
            "Requirement already satisfied: numpy in /usr/local/lib/python3.6/dist-packages (from lightgbm) (1.18.5)\n",
            "Requirement already satisfied: scipy in /usr/local/lib/python3.6/dist-packages (from lightgbm) (1.4.1)\n",
            "Requirement already satisfied: joblib>=0.11 in /usr/local/lib/python3.6/dist-packages (from scikit-learn->lightgbm) (0.16.0)\n"
          ],
          "name": "stdout"
        }
      ]
    },
    {
      "cell_type": "code",
      "metadata": {
        "id": "SM7Au1qNMGuO",
        "colab_type": "code",
        "colab": {}
      },
      "source": [
        "import lightgbm as lgb\n",
        "from lightgbm import LGBMClassifier"
      ],
      "execution_count": 118,
      "outputs": []
    },
    {
      "cell_type": "code",
      "metadata": {
        "id": "6fuwArr5MGzW",
        "colab_type": "code",
        "colab": {}
      },
      "source": [
        "lgb=LGBMClassifier()\n",
        "model_lgb=lgb.fit(X_train_res,y_train)"
      ],
      "execution_count": 119,
      "outputs": []
    },
    {
      "cell_type": "code",
      "metadata": {
        "id": "9NuxG9NrMHAc",
        "colab_type": "code",
        "colab": {}
      },
      "source": [
        "y_pred=model_lgb.predict(X_test_res)"
      ],
      "execution_count": 120,
      "outputs": []
    },
    {
      "cell_type": "code",
      "metadata": {
        "id": "v5VUtSyeMG9W",
        "colab_type": "code",
        "colab": {
          "base_uri": "https://localhost:8080/",
          "height": 34
        },
        "outputId": "c2f087b6-d1de-45d9-fa5c-bfc690b36ad5"
      },
      "source": [
        "accuracy_score(y_test,y_pred)"
      ],
      "execution_count": 121,
      "outputs": [
        {
          "output_type": "execute_result",
          "data": {
            "text/plain": [
              "0.9178067468177561"
            ]
          },
          "metadata": {
            "tags": []
          },
          "execution_count": 121
        }
      ]
    },
    {
      "cell_type": "code",
      "metadata": {
        "id": "t_RjODO6MGr5",
        "colab_type": "code",
        "colab": {
          "base_uri": "https://localhost:8080/",
          "height": 34
        },
        "outputId": "2ef6a6aa-ca0e-4ce2-c3a5-dfd0d3eee188"
      },
      "source": [
        "precision_score(y_test,y_pred)"
      ],
      "execution_count": 122,
      "outputs": [
        {
          "output_type": "execute_result",
          "data": {
            "text/plain": [
              "0.9620435146822433"
            ]
          },
          "metadata": {
            "tags": []
          },
          "execution_count": 122
        }
      ]
    },
    {
      "cell_type": "markdown",
      "metadata": {
        "id": "3aeO6cpYlBHS",
        "colab_type": "text"
      },
      "source": [
        "**catboost  gives more accuracy**"
      ]
    },
    {
      "cell_type": "markdown",
      "metadata": {
        "id": "2wRMWkVolR18",
        "colab_type": "text"
      },
      "source": [
        "**predictions**"
      ]
    },
    {
      "cell_type": "code",
      "metadata": {
        "id": "G2nsnm20tg3x",
        "colab_type": "code",
        "colab": {
          "base_uri": "https://localhost:8080/",
          "height": 204
        },
        "outputId": "aac43e21-97e1-4cd6-c147-70247e3a8584"
      },
      "source": [
        "df_test.head()"
      ],
      "execution_count": 123,
      "outputs": [
        {
          "output_type": "execute_result",
          "data": {
            "text/html": [
              "<div>\n",
              "<style scoped>\n",
              "    .dataframe tbody tr th:only-of-type {\n",
              "        vertical-align: middle;\n",
              "    }\n",
              "\n",
              "    .dataframe tbody tr th {\n",
              "        vertical-align: top;\n",
              "    }\n",
              "\n",
              "    .dataframe thead th {\n",
              "        text-align: right;\n",
              "    }\n",
              "</style>\n",
              "<table border=\"1\" class=\"dataframe\">\n",
              "  <thead>\n",
              "    <tr style=\"text-align: right;\">\n",
              "      <th></th>\n",
              "      <th>id</th>\n",
              "      <th>Gender</th>\n",
              "      <th>Age</th>\n",
              "      <th>Driving_License</th>\n",
              "      <th>Region_Code</th>\n",
              "      <th>Previously_Insured</th>\n",
              "      <th>Vehicle_Age</th>\n",
              "      <th>Vehicle_Damage</th>\n",
              "      <th>Annual_Premium</th>\n",
              "      <th>Policy_Sales_Channel</th>\n",
              "      <th>Vintage</th>\n",
              "    </tr>\n",
              "  </thead>\n",
              "  <tbody>\n",
              "    <tr>\n",
              "      <th>0</th>\n",
              "      <td>381110</td>\n",
              "      <td>1</td>\n",
              "      <td>25</td>\n",
              "      <td>1</td>\n",
              "      <td>11.0</td>\n",
              "      <td>1</td>\n",
              "      <td>0</td>\n",
              "      <td>0</td>\n",
              "      <td>35786.0</td>\n",
              "      <td>152.0</td>\n",
              "      <td>53</td>\n",
              "    </tr>\n",
              "    <tr>\n",
              "      <th>1</th>\n",
              "      <td>381111</td>\n",
              "      <td>1</td>\n",
              "      <td>40</td>\n",
              "      <td>1</td>\n",
              "      <td>28.0</td>\n",
              "      <td>0</td>\n",
              "      <td>1</td>\n",
              "      <td>1</td>\n",
              "      <td>33762.0</td>\n",
              "      <td>7.0</td>\n",
              "      <td>111</td>\n",
              "    </tr>\n",
              "    <tr>\n",
              "      <th>2</th>\n",
              "      <td>381112</td>\n",
              "      <td>1</td>\n",
              "      <td>47</td>\n",
              "      <td>1</td>\n",
              "      <td>28.0</td>\n",
              "      <td>0</td>\n",
              "      <td>1</td>\n",
              "      <td>1</td>\n",
              "      <td>40050.0</td>\n",
              "      <td>124.0</td>\n",
              "      <td>199</td>\n",
              "    </tr>\n",
              "    <tr>\n",
              "      <th>3</th>\n",
              "      <td>381113</td>\n",
              "      <td>1</td>\n",
              "      <td>24</td>\n",
              "      <td>1</td>\n",
              "      <td>27.0</td>\n",
              "      <td>1</td>\n",
              "      <td>0</td>\n",
              "      <td>1</td>\n",
              "      <td>37356.0</td>\n",
              "      <td>152.0</td>\n",
              "      <td>187</td>\n",
              "    </tr>\n",
              "    <tr>\n",
              "      <th>4</th>\n",
              "      <td>381114</td>\n",
              "      <td>1</td>\n",
              "      <td>27</td>\n",
              "      <td>1</td>\n",
              "      <td>28.0</td>\n",
              "      <td>1</td>\n",
              "      <td>0</td>\n",
              "      <td>0</td>\n",
              "      <td>59097.0</td>\n",
              "      <td>152.0</td>\n",
              "      <td>297</td>\n",
              "    </tr>\n",
              "  </tbody>\n",
              "</table>\n",
              "</div>"
            ],
            "text/plain": [
              "       id  Gender  Age  ...  Annual_Premium  Policy_Sales_Channel  Vintage\n",
              "0  381110       1   25  ...         35786.0                 152.0       53\n",
              "1  381111       1   40  ...         33762.0                   7.0      111\n",
              "2  381112       1   47  ...         40050.0                 124.0      199\n",
              "3  381113       1   24  ...         37356.0                 152.0      187\n",
              "4  381114       1   27  ...         59097.0                 152.0      297\n",
              "\n",
              "[5 rows x 11 columns]"
            ]
          },
          "metadata": {
            "tags": []
          },
          "execution_count": 123
        }
      ]
    },
    {
      "cell_type": "code",
      "metadata": {
        "id": "LvcE0JkqvJj0",
        "colab_type": "code",
        "colab": {}
      },
      "source": [
        "df_test_copy=df_test.copy()"
      ],
      "execution_count": 124,
      "outputs": []
    },
    {
      "cell_type": "code",
      "metadata": {
        "id": "NpdrkHfJvMAN",
        "colab_type": "code",
        "colab": {}
      },
      "source": [
        "df_test_copy.drop('id',axis=1,inplace=True)"
      ],
      "execution_count": 125,
      "outputs": []
    },
    {
      "cell_type": "code",
      "metadata": {
        "id": "uN-wLaE7vXnG",
        "colab_type": "code",
        "colab": {
          "base_uri": "https://localhost:8080/",
          "height": 85
        },
        "outputId": "48fc3ba2-12b1-4fb6-8bc4-67aea7eec240"
      },
      "source": [
        "df_test_copy.columns"
      ],
      "execution_count": 126,
      "outputs": [
        {
          "output_type": "execute_result",
          "data": {
            "text/plain": [
              "Index(['Gender', 'Age', 'Driving_License', 'Region_Code', 'Previously_Insured',\n",
              "       'Vehicle_Age', 'Vehicle_Damage', 'Annual_Premium',\n",
              "       'Policy_Sales_Channel', 'Vintage'],\n",
              "      dtype='object')"
            ]
          },
          "metadata": {
            "tags": []
          },
          "execution_count": 126
        }
      ]
    },
    {
      "cell_type": "code",
      "metadata": {
        "id": "Ma1y_eTxtqAR",
        "colab_type": "code",
        "colab": {}
      },
      "source": [
        "df_test_copy=sc.transform(df_test_copy)"
      ],
      "execution_count": 127,
      "outputs": []
    },
    {
      "cell_type": "code",
      "metadata": {
        "id": "K_e90pW0t_9t",
        "colab_type": "code",
        "colab": {
          "base_uri": "https://localhost:8080/",
          "height": 238
        },
        "outputId": "f3e76e14-490c-4627-d80e-3073b6dfc2c2"
      },
      "source": [
        "df_test_copy"
      ],
      "execution_count": 128,
      "outputs": [
        {
          "output_type": "execute_result",
          "data": {
            "text/plain": [
              "array([[ 0.93555715, -1.13346144,  0.04162401, ...,  0.41024974,\n",
              "         0.86770373, -1.21466688],\n",
              "       [ 0.93555715, -0.04235041,  0.04162401, ...,  0.276304  ,\n",
              "        -1.74390612, -0.51870855],\n",
              "       [ 0.93555715,  0.46683473,  0.04162401, ...,  0.69243582,\n",
              "         0.36339286,  0.53722823],\n",
              "       ...,\n",
              "       [ 0.93555715, -1.42442439,  0.04162401, ...,  0.01423624,\n",
              "         0.86770373, -0.96268196],\n",
              "       [ 0.93555715,  2.21261238,  0.04162401, ...,  2.20296524,\n",
              "        -1.40169518,  1.32918082],\n",
              "       [ 0.93555715,  0.03039032,  0.04162401, ..., -0.10984887,\n",
              "         0.36339286,  0.92120524]])"
            ]
          },
          "metadata": {
            "tags": []
          },
          "execution_count": 128
        }
      ]
    },
    {
      "cell_type": "code",
      "metadata": {
        "id": "EzuqbEgptyMI",
        "colab_type": "code",
        "colab": {}
      },
      "source": [
        "predictions=model_cb.predict_proba(df_test_copy)[:,1]"
      ],
      "execution_count": 130,
      "outputs": []
    },
    {
      "cell_type": "code",
      "metadata": {
        "id": "ozdgKac7xYlF",
        "colab_type": "code",
        "colab": {
          "base_uri": "https://localhost:8080/",
          "height": 51
        },
        "outputId": "964298d9-ced9-4065-98f5-bf140b67c24b"
      },
      "source": [
        "predictions"
      ],
      "execution_count": 131,
      "outputs": [
        {
          "output_type": "execute_result",
          "data": {
            "text/plain": [
              "array([7.38160894e-04, 3.98819648e-01, 3.19449258e-01, ...,\n",
              "       2.41695545e-04, 2.02456814e-04, 1.18565591e-03])"
            ]
          },
          "metadata": {
            "tags": []
          },
          "execution_count": 131
        }
      ]
    },
    {
      "cell_type": "code",
      "metadata": {
        "id": "GuEh5XpixHWS",
        "colab_type": "code",
        "colab": {}
      },
      "source": [
        "final=pd.DataFrame()\n",
        "final['id']=df_test['id']\n",
        "final['Response']=predictions"
      ],
      "execution_count": 132,
      "outputs": []
    },
    {
      "cell_type": "code",
      "metadata": {
        "id": "hy7-4c_JxdrR",
        "colab_type": "code",
        "colab": {
          "base_uri": "https://localhost:8080/",
          "height": 419
        },
        "outputId": "7ff12116-1003-48df-a7c4-1da252273882"
      },
      "source": [
        "final"
      ],
      "execution_count": 133,
      "outputs": [
        {
          "output_type": "execute_result",
          "data": {
            "text/html": [
              "<div>\n",
              "<style scoped>\n",
              "    .dataframe tbody tr th:only-of-type {\n",
              "        vertical-align: middle;\n",
              "    }\n",
              "\n",
              "    .dataframe tbody tr th {\n",
              "        vertical-align: top;\n",
              "    }\n",
              "\n",
              "    .dataframe thead th {\n",
              "        text-align: right;\n",
              "    }\n",
              "</style>\n",
              "<table border=\"1\" class=\"dataframe\">\n",
              "  <thead>\n",
              "    <tr style=\"text-align: right;\">\n",
              "      <th></th>\n",
              "      <th>id</th>\n",
              "      <th>Response</th>\n",
              "    </tr>\n",
              "  </thead>\n",
              "  <tbody>\n",
              "    <tr>\n",
              "      <th>0</th>\n",
              "      <td>381110</td>\n",
              "      <td>0.000738</td>\n",
              "    </tr>\n",
              "    <tr>\n",
              "      <th>1</th>\n",
              "      <td>381111</td>\n",
              "      <td>0.398820</td>\n",
              "    </tr>\n",
              "    <tr>\n",
              "      <th>2</th>\n",
              "      <td>381112</td>\n",
              "      <td>0.319449</td>\n",
              "    </tr>\n",
              "    <tr>\n",
              "      <th>3</th>\n",
              "      <td>381113</td>\n",
              "      <td>0.005849</td>\n",
              "    </tr>\n",
              "    <tr>\n",
              "      <th>4</th>\n",
              "      <td>381114</td>\n",
              "      <td>0.000069</td>\n",
              "    </tr>\n",
              "    <tr>\n",
              "      <th>...</th>\n",
              "      <td>...</td>\n",
              "      <td>...</td>\n",
              "    </tr>\n",
              "    <tr>\n",
              "      <th>127032</th>\n",
              "      <td>508142</td>\n",
              "      <td>0.000365</td>\n",
              "    </tr>\n",
              "    <tr>\n",
              "      <th>127033</th>\n",
              "      <td>508143</td>\n",
              "      <td>0.373294</td>\n",
              "    </tr>\n",
              "    <tr>\n",
              "      <th>127034</th>\n",
              "      <td>508144</td>\n",
              "      <td>0.000242</td>\n",
              "    </tr>\n",
              "    <tr>\n",
              "      <th>127035</th>\n",
              "      <td>508145</td>\n",
              "      <td>0.000202</td>\n",
              "    </tr>\n",
              "    <tr>\n",
              "      <th>127036</th>\n",
              "      <td>508146</td>\n",
              "      <td>0.001186</td>\n",
              "    </tr>\n",
              "  </tbody>\n",
              "</table>\n",
              "<p>127037 rows × 2 columns</p>\n",
              "</div>"
            ],
            "text/plain": [
              "            id  Response\n",
              "0       381110  0.000738\n",
              "1       381111  0.398820\n",
              "2       381112  0.319449\n",
              "3       381113  0.005849\n",
              "4       381114  0.000069\n",
              "...        ...       ...\n",
              "127032  508142  0.000365\n",
              "127033  508143  0.373294\n",
              "127034  508144  0.000242\n",
              "127035  508145  0.000202\n",
              "127036  508146  0.001186\n",
              "\n",
              "[127037 rows x 2 columns]"
            ]
          },
          "metadata": {
            "tags": []
          },
          "execution_count": 133
        }
      ]
    },
    {
      "cell_type": "code",
      "metadata": {
        "id": "NhJPxAoCxe9S",
        "colab_type": "code",
        "colab": {}
      },
      "source": [
        "final.to_csv('catb_final.csv',index=False)"
      ],
      "execution_count": 134,
      "outputs": []
    },
    {
      "cell_type": "code",
      "metadata": {
        "id": "T4-KS2Ngydoy",
        "colab_type": "code",
        "colab": {}
      },
      "source": [
        ""
      ],
      "execution_count": null,
      "outputs": []
    }
  ]
}